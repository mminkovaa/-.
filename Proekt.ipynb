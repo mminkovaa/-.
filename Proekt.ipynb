{
 "cells": [
  {
   "cell_type": "markdown",
   "id": "6a6c7ef2",
   "metadata": {},
   "source": [
    "# Проектная работа\n",
    "## Анализ датасета '12housing'\n",
    "Maria Minkova"
   ]
  },
  {
   "cell_type": "code",
   "execution_count": 702,
   "id": "0c77196c",
   "metadata": {},
   "outputs": [],
   "source": [
    "import pandas as pd\n",
    "import numpy as np\n",
    "import statsmodels.formula.api as smf\n",
    "import statsmodels.api as sm\n",
    "from statsmodels.stats.diagnostic import linear_reset\n",
    "from statsmodels.stats.diagnostic import linear_rainbow\n",
    "from statsmodels.stats.diagnostic import linear_harvey_collier\n",
    "from statsmodels.iolib.summary2 import summary_params\n",
    "from scipy.stats import t\n",
    "from scipy.stats import f # F-распределение\n",
    "from statsmodels.iolib.summary2 import summary_col # вывод подгонки\n",
    "from matplotlib import pyplot as plt\n",
    "import seaborn as sns\n",
    "import scipy\n",
    "import patsy # матрицы регрессионного дизайна\n",
    "import scipy.stats as stats\n",
    "import statsmodels.stats.api as sms # тесты\n",
    "from scipy.stats import chi2 # 𝜒2-распределение"
   ]
  },
  {
   "cell_type": "markdown",
   "id": "1ed74121",
   "metadata": {},
   "source": [
    "###  Загрузим данные"
   ]
  },
  {
   "cell_type": "code",
   "execution_count": 703,
   "id": "5fa4b4bb",
   "metadata": {},
   "outputs": [
    {
     "data": {
      "text/html": [
       "<div>\n",
       "<style scoped>\n",
       "    .dataframe tbody tr th:only-of-type {\n",
       "        vertical-align: middle;\n",
       "    }\n",
       "\n",
       "    .dataframe tbody tr th {\n",
       "        vertical-align: top;\n",
       "    }\n",
       "\n",
       "    .dataframe thead th {\n",
       "        text-align: right;\n",
       "    }\n",
       "</style>\n",
       "<table border=\"1\" class=\"dataframe\">\n",
       "  <thead>\n",
       "    <tr style=\"text-align: right;\">\n",
       "      <th></th>\n",
       "      <th>price</th>\n",
       "      <th>area</th>\n",
       "      <th>bedrooms</th>\n",
       "      <th>bathrooms</th>\n",
       "      <th>stories</th>\n",
       "      <th>mainroad</th>\n",
       "      <th>guestroom</th>\n",
       "      <th>basement</th>\n",
       "      <th>hotwaterheating</th>\n",
       "      <th>airconditioning</th>\n",
       "      <th>parking</th>\n",
       "      <th>prefarea</th>\n",
       "      <th>furnishingstatus</th>\n",
       "    </tr>\n",
       "  </thead>\n",
       "  <tbody>\n",
       "    <tr>\n",
       "      <th>0</th>\n",
       "      <td>13300000</td>\n",
       "      <td>7420</td>\n",
       "      <td>4</td>\n",
       "      <td>2</td>\n",
       "      <td>3</td>\n",
       "      <td>yes</td>\n",
       "      <td>no</td>\n",
       "      <td>no</td>\n",
       "      <td>no</td>\n",
       "      <td>yes</td>\n",
       "      <td>2</td>\n",
       "      <td>yes</td>\n",
       "      <td>furnished</td>\n",
       "    </tr>\n",
       "    <tr>\n",
       "      <th>1</th>\n",
       "      <td>12250000</td>\n",
       "      <td>8960</td>\n",
       "      <td>4</td>\n",
       "      <td>4</td>\n",
       "      <td>4</td>\n",
       "      <td>yes</td>\n",
       "      <td>no</td>\n",
       "      <td>no</td>\n",
       "      <td>no</td>\n",
       "      <td>yes</td>\n",
       "      <td>3</td>\n",
       "      <td>no</td>\n",
       "      <td>furnished</td>\n",
       "    </tr>\n",
       "    <tr>\n",
       "      <th>2</th>\n",
       "      <td>12250000</td>\n",
       "      <td>9960</td>\n",
       "      <td>3</td>\n",
       "      <td>2</td>\n",
       "      <td>2</td>\n",
       "      <td>yes</td>\n",
       "      <td>no</td>\n",
       "      <td>yes</td>\n",
       "      <td>no</td>\n",
       "      <td>no</td>\n",
       "      <td>2</td>\n",
       "      <td>yes</td>\n",
       "      <td>semi-furnished</td>\n",
       "    </tr>\n",
       "    <tr>\n",
       "      <th>3</th>\n",
       "      <td>12215000</td>\n",
       "      <td>7500</td>\n",
       "      <td>4</td>\n",
       "      <td>2</td>\n",
       "      <td>2</td>\n",
       "      <td>yes</td>\n",
       "      <td>no</td>\n",
       "      <td>yes</td>\n",
       "      <td>no</td>\n",
       "      <td>yes</td>\n",
       "      <td>3</td>\n",
       "      <td>yes</td>\n",
       "      <td>furnished</td>\n",
       "    </tr>\n",
       "    <tr>\n",
       "      <th>4</th>\n",
       "      <td>11410000</td>\n",
       "      <td>7420</td>\n",
       "      <td>4</td>\n",
       "      <td>1</td>\n",
       "      <td>2</td>\n",
       "      <td>yes</td>\n",
       "      <td>yes</td>\n",
       "      <td>yes</td>\n",
       "      <td>no</td>\n",
       "      <td>yes</td>\n",
       "      <td>2</td>\n",
       "      <td>no</td>\n",
       "      <td>furnished</td>\n",
       "    </tr>\n",
       "    <tr>\n",
       "      <th>...</th>\n",
       "      <td>...</td>\n",
       "      <td>...</td>\n",
       "      <td>...</td>\n",
       "      <td>...</td>\n",
       "      <td>...</td>\n",
       "      <td>...</td>\n",
       "      <td>...</td>\n",
       "      <td>...</td>\n",
       "      <td>...</td>\n",
       "      <td>...</td>\n",
       "      <td>...</td>\n",
       "      <td>...</td>\n",
       "      <td>...</td>\n",
       "    </tr>\n",
       "    <tr>\n",
       "      <th>540</th>\n",
       "      <td>1820000</td>\n",
       "      <td>3000</td>\n",
       "      <td>2</td>\n",
       "      <td>1</td>\n",
       "      <td>1</td>\n",
       "      <td>yes</td>\n",
       "      <td>no</td>\n",
       "      <td>yes</td>\n",
       "      <td>no</td>\n",
       "      <td>no</td>\n",
       "      <td>2</td>\n",
       "      <td>no</td>\n",
       "      <td>unfurnished</td>\n",
       "    </tr>\n",
       "    <tr>\n",
       "      <th>541</th>\n",
       "      <td>1767150</td>\n",
       "      <td>2400</td>\n",
       "      <td>3</td>\n",
       "      <td>1</td>\n",
       "      <td>1</td>\n",
       "      <td>no</td>\n",
       "      <td>no</td>\n",
       "      <td>no</td>\n",
       "      <td>no</td>\n",
       "      <td>no</td>\n",
       "      <td>0</td>\n",
       "      <td>no</td>\n",
       "      <td>semi-furnished</td>\n",
       "    </tr>\n",
       "    <tr>\n",
       "      <th>542</th>\n",
       "      <td>1750000</td>\n",
       "      <td>3620</td>\n",
       "      <td>2</td>\n",
       "      <td>1</td>\n",
       "      <td>1</td>\n",
       "      <td>yes</td>\n",
       "      <td>no</td>\n",
       "      <td>no</td>\n",
       "      <td>no</td>\n",
       "      <td>no</td>\n",
       "      <td>0</td>\n",
       "      <td>no</td>\n",
       "      <td>unfurnished</td>\n",
       "    </tr>\n",
       "    <tr>\n",
       "      <th>543</th>\n",
       "      <td>1750000</td>\n",
       "      <td>2910</td>\n",
       "      <td>3</td>\n",
       "      <td>1</td>\n",
       "      <td>1</td>\n",
       "      <td>no</td>\n",
       "      <td>no</td>\n",
       "      <td>no</td>\n",
       "      <td>no</td>\n",
       "      <td>no</td>\n",
       "      <td>0</td>\n",
       "      <td>no</td>\n",
       "      <td>furnished</td>\n",
       "    </tr>\n",
       "    <tr>\n",
       "      <th>544</th>\n",
       "      <td>1750000</td>\n",
       "      <td>3850</td>\n",
       "      <td>3</td>\n",
       "      <td>1</td>\n",
       "      <td>2</td>\n",
       "      <td>yes</td>\n",
       "      <td>no</td>\n",
       "      <td>no</td>\n",
       "      <td>no</td>\n",
       "      <td>no</td>\n",
       "      <td>0</td>\n",
       "      <td>no</td>\n",
       "      <td>unfurnished</td>\n",
       "    </tr>\n",
       "  </tbody>\n",
       "</table>\n",
       "<p>545 rows × 13 columns</p>\n",
       "</div>"
      ],
      "text/plain": [
       "        price  area  bedrooms  bathrooms  stories mainroad guestroom basement  \\\n",
       "0    13300000  7420         4          2        3      yes        no       no   \n",
       "1    12250000  8960         4          4        4      yes        no       no   \n",
       "2    12250000  9960         3          2        2      yes        no      yes   \n",
       "3    12215000  7500         4          2        2      yes        no      yes   \n",
       "4    11410000  7420         4          1        2      yes       yes      yes   \n",
       "..        ...   ...       ...        ...      ...      ...       ...      ...   \n",
       "540   1820000  3000         2          1        1      yes        no      yes   \n",
       "541   1767150  2400         3          1        1       no        no       no   \n",
       "542   1750000  3620         2          1        1      yes        no       no   \n",
       "543   1750000  2910         3          1        1       no        no       no   \n",
       "544   1750000  3850         3          1        2      yes        no       no   \n",
       "\n",
       "    hotwaterheating airconditioning  parking prefarea furnishingstatus  \n",
       "0                no             yes        2      yes        furnished  \n",
       "1                no             yes        3       no        furnished  \n",
       "2                no              no        2      yes   semi-furnished  \n",
       "3                no             yes        3      yes        furnished  \n",
       "4                no             yes        2       no        furnished  \n",
       "..              ...             ...      ...      ...              ...  \n",
       "540              no              no        2       no      unfurnished  \n",
       "541              no              no        0       no   semi-furnished  \n",
       "542              no              no        0       no      unfurnished  \n",
       "543              no              no        0       no        furnished  \n",
       "544              no              no        0       no      unfurnished  \n",
       "\n",
       "[545 rows x 13 columns]"
      ]
     },
     "execution_count": 703,
     "metadata": {},
     "output_type": "execute_result"
    }
   ],
   "source": [
    "df = pd.read_csv('https://raw.githubusercontent.com/artamonoff/Econometrica/master/python-notebooks/data-csv/12Housing.csv')\n",
    "df"
   ]
  },
  {
   "cell_type": "markdown",
   "id": "44a649a1",
   "metadata": {},
   "source": [
    "###   Обработка данных"
   ]
  },
  {
   "cell_type": "code",
   "execution_count": 704,
   "id": "8d3ceefa",
   "metadata": {},
   "outputs": [
    {
     "name": "stdout",
     "output_type": "stream",
     "text": [
      "<class 'pandas.core.frame.DataFrame'>\n",
      "RangeIndex: 545 entries, 0 to 544\n",
      "Data columns (total 13 columns):\n",
      " #   Column            Non-Null Count  Dtype \n",
      "---  ------            --------------  ----- \n",
      " 0   price             545 non-null    int64 \n",
      " 1   area              545 non-null    int64 \n",
      " 2   bedrooms          545 non-null    int64 \n",
      " 3   bathrooms         545 non-null    int64 \n",
      " 4   stories           545 non-null    int64 \n",
      " 5   mainroad          545 non-null    object\n",
      " 6   guestroom         545 non-null    object\n",
      " 7   basement          545 non-null    object\n",
      " 8   hotwaterheating   545 non-null    object\n",
      " 9   airconditioning   545 non-null    object\n",
      " 10  parking           545 non-null    int64 \n",
      " 11  prefarea          545 non-null    object\n",
      " 12  furnishingstatus  545 non-null    object\n",
      "dtypes: int64(6), object(7)\n",
      "memory usage: 55.5+ KB\n"
     ]
    }
   ],
   "source": [
    "df.info()"
   ]
  },
  {
   "cell_type": "markdown",
   "id": "46b29ef5",
   "metadata": {},
   "source": [
    "Nan-ов нет"
   ]
  },
  {
   "cell_type": "markdown",
   "id": "ad4639e3",
   "metadata": {},
   "source": [
    "Вернем нормальную индексацию"
   ]
  },
  {
   "cell_type": "code",
   "execution_count": 705,
   "id": "34cf16bb",
   "metadata": {},
   "outputs": [
    {
     "data": {
      "text/plain": [
       "array(['yes', 'no'], dtype=object)"
      ]
     },
     "execution_count": 705,
     "metadata": {},
     "output_type": "execute_result"
    }
   ],
   "source": [
    "df['mainroad'].unique()"
   ]
  },
  {
   "cell_type": "code",
   "execution_count": 706,
   "id": "bdba823b",
   "metadata": {},
   "outputs": [
    {
     "data": {
      "text/plain": [
       "array(['no', 'yes'], dtype=object)"
      ]
     },
     "execution_count": 706,
     "metadata": {},
     "output_type": "execute_result"
    }
   ],
   "source": [
    "df['guestroom'].unique()"
   ]
  },
  {
   "cell_type": "code",
   "execution_count": 707,
   "id": "ad484f14",
   "metadata": {},
   "outputs": [
    {
     "data": {
      "text/plain": [
       "array(['no', 'yes'], dtype=object)"
      ]
     },
     "execution_count": 707,
     "metadata": {},
     "output_type": "execute_result"
    }
   ],
   "source": [
    "df['basement'].unique()"
   ]
  },
  {
   "cell_type": "code",
   "execution_count": 708,
   "id": "2a06ad43",
   "metadata": {},
   "outputs": [
    {
     "data": {
      "text/plain": [
       "array(['no', 'yes'], dtype=object)"
      ]
     },
     "execution_count": 708,
     "metadata": {},
     "output_type": "execute_result"
    }
   ],
   "source": [
    "df['hotwaterheating'].unique()"
   ]
  },
  {
   "cell_type": "code",
   "execution_count": 709,
   "id": "dacf6e0c",
   "metadata": {},
   "outputs": [
    {
     "data": {
      "text/plain": [
       "array(['yes', 'no'], dtype=object)"
      ]
     },
     "execution_count": 709,
     "metadata": {},
     "output_type": "execute_result"
    }
   ],
   "source": [
    "df['airconditioning'].unique()"
   ]
  },
  {
   "cell_type": "code",
   "execution_count": 710,
   "id": "b0c70311",
   "metadata": {},
   "outputs": [
    {
     "data": {
      "text/plain": [
       "array(['yes', 'no'], dtype=object)"
      ]
     },
     "execution_count": 710,
     "metadata": {},
     "output_type": "execute_result"
    }
   ],
   "source": [
    "df['prefarea'].unique()"
   ]
  },
  {
   "cell_type": "code",
   "execution_count": 711,
   "id": "ca647d1a",
   "metadata": {},
   "outputs": [
    {
     "data": {
      "text/plain": [
       "array(['furnished', 'semi-furnished', 'unfurnished'], dtype=object)"
      ]
     },
     "execution_count": 711,
     "metadata": {},
     "output_type": "execute_result"
    }
   ],
   "source": [
    "df['furnishingstatus'].unique()"
   ]
  },
  {
   "cell_type": "markdown",
   "id": "dee0ef77",
   "metadata": {},
   "source": [
    "Заменим бианрные признаки на 1, 0"
   ]
  },
  {
   "cell_type": "code",
   "execution_count": 712,
   "id": "e5cdc0ae",
   "metadata": {},
   "outputs": [
    {
     "data": {
      "text/html": [
       "<div>\n",
       "<style scoped>\n",
       "    .dataframe tbody tr th:only-of-type {\n",
       "        vertical-align: middle;\n",
       "    }\n",
       "\n",
       "    .dataframe tbody tr th {\n",
       "        vertical-align: top;\n",
       "    }\n",
       "\n",
       "    .dataframe thead th {\n",
       "        text-align: right;\n",
       "    }\n",
       "</style>\n",
       "<table border=\"1\" class=\"dataframe\">\n",
       "  <thead>\n",
       "    <tr style=\"text-align: right;\">\n",
       "      <th></th>\n",
       "      <th>price</th>\n",
       "      <th>area</th>\n",
       "      <th>bedrooms</th>\n",
       "      <th>bathrooms</th>\n",
       "      <th>stories</th>\n",
       "      <th>mainroad</th>\n",
       "      <th>guestroom</th>\n",
       "      <th>basement</th>\n",
       "      <th>hotwaterheating</th>\n",
       "      <th>airconditioning</th>\n",
       "      <th>parking</th>\n",
       "      <th>prefarea</th>\n",
       "      <th>furnishingstatus</th>\n",
       "    </tr>\n",
       "  </thead>\n",
       "  <tbody>\n",
       "    <tr>\n",
       "      <th>0</th>\n",
       "      <td>13300000</td>\n",
       "      <td>7420</td>\n",
       "      <td>4</td>\n",
       "      <td>2</td>\n",
       "      <td>3</td>\n",
       "      <td>1</td>\n",
       "      <td>0</td>\n",
       "      <td>0</td>\n",
       "      <td>0</td>\n",
       "      <td>1</td>\n",
       "      <td>2</td>\n",
       "      <td>1</td>\n",
       "      <td>furnished</td>\n",
       "    </tr>\n",
       "    <tr>\n",
       "      <th>1</th>\n",
       "      <td>12250000</td>\n",
       "      <td>8960</td>\n",
       "      <td>4</td>\n",
       "      <td>4</td>\n",
       "      <td>4</td>\n",
       "      <td>1</td>\n",
       "      <td>0</td>\n",
       "      <td>0</td>\n",
       "      <td>0</td>\n",
       "      <td>1</td>\n",
       "      <td>3</td>\n",
       "      <td>0</td>\n",
       "      <td>furnished</td>\n",
       "    </tr>\n",
       "    <tr>\n",
       "      <th>2</th>\n",
       "      <td>12250000</td>\n",
       "      <td>9960</td>\n",
       "      <td>3</td>\n",
       "      <td>2</td>\n",
       "      <td>2</td>\n",
       "      <td>1</td>\n",
       "      <td>0</td>\n",
       "      <td>1</td>\n",
       "      <td>0</td>\n",
       "      <td>0</td>\n",
       "      <td>2</td>\n",
       "      <td>1</td>\n",
       "      <td>semi-furnished</td>\n",
       "    </tr>\n",
       "    <tr>\n",
       "      <th>3</th>\n",
       "      <td>12215000</td>\n",
       "      <td>7500</td>\n",
       "      <td>4</td>\n",
       "      <td>2</td>\n",
       "      <td>2</td>\n",
       "      <td>1</td>\n",
       "      <td>0</td>\n",
       "      <td>1</td>\n",
       "      <td>0</td>\n",
       "      <td>1</td>\n",
       "      <td>3</td>\n",
       "      <td>1</td>\n",
       "      <td>furnished</td>\n",
       "    </tr>\n",
       "    <tr>\n",
       "      <th>4</th>\n",
       "      <td>11410000</td>\n",
       "      <td>7420</td>\n",
       "      <td>4</td>\n",
       "      <td>1</td>\n",
       "      <td>2</td>\n",
       "      <td>1</td>\n",
       "      <td>1</td>\n",
       "      <td>1</td>\n",
       "      <td>0</td>\n",
       "      <td>1</td>\n",
       "      <td>2</td>\n",
       "      <td>0</td>\n",
       "      <td>furnished</td>\n",
       "    </tr>\n",
       "  </tbody>\n",
       "</table>\n",
       "</div>"
      ],
      "text/plain": [
       "      price  area  bedrooms  bathrooms  stories  mainroad  guestroom  \\\n",
       "0  13300000  7420         4          2        3         1          0   \n",
       "1  12250000  8960         4          4        4         1          0   \n",
       "2  12250000  9960         3          2        2         1          0   \n",
       "3  12215000  7500         4          2        2         1          0   \n",
       "4  11410000  7420         4          1        2         1          1   \n",
       "\n",
       "   basement  hotwaterheating  airconditioning  parking  prefarea  \\\n",
       "0         0                0                1        2         1   \n",
       "1         0                0                1        3         0   \n",
       "2         1                0                0        2         1   \n",
       "3         1                0                1        3         1   \n",
       "4         1                0                1        2         0   \n",
       "\n",
       "  furnishingstatus  \n",
       "0        furnished  \n",
       "1        furnished  \n",
       "2   semi-furnished  \n",
       "3        furnished  \n",
       "4        furnished  "
      ]
     },
     "execution_count": 712,
     "metadata": {},
     "output_type": "execute_result"
    }
   ],
   "source": [
    "cleanup_nums = {\"mainroad\": {'yes': 1, 'no': 0},\n",
    "               \"guestroom\": {'yes': 1, 'no': 0},\n",
    "               \"basement\": {'yes': 1, 'no': 0},\n",
    "               \"hotwaterheating\": {'yes': 1, 'no': 0},\n",
    "               \"airconditioning\": {'yes': 1, 'no': 0},\n",
    "               \"prefarea\": {'yes': 1, 'no': 0}}\n",
    "df = df.replace(cleanup_nums)\n",
    "df.head()"
   ]
  },
  {
   "cell_type": "markdown",
   "id": "2f0e67ca",
   "metadata": {},
   "source": [
    "Теперь закодируем категориальные признаки"
   ]
  },
  {
   "cell_type": "code",
   "execution_count": 713,
   "id": "e84b8f19",
   "metadata": {},
   "outputs": [
    {
     "data": {
      "text/html": [
       "<div>\n",
       "<style scoped>\n",
       "    .dataframe tbody tr th:only-of-type {\n",
       "        vertical-align: middle;\n",
       "    }\n",
       "\n",
       "    .dataframe tbody tr th {\n",
       "        vertical-align: top;\n",
       "    }\n",
       "\n",
       "    .dataframe thead th {\n",
       "        text-align: right;\n",
       "    }\n",
       "</style>\n",
       "<table border=\"1\" class=\"dataframe\">\n",
       "  <thead>\n",
       "    <tr style=\"text-align: right;\">\n",
       "      <th></th>\n",
       "      <th>price</th>\n",
       "      <th>area</th>\n",
       "      <th>bedrooms</th>\n",
       "      <th>bathrooms</th>\n",
       "      <th>stories</th>\n",
       "      <th>mainroad</th>\n",
       "      <th>guestroom</th>\n",
       "      <th>basement</th>\n",
       "      <th>hotwaterheating</th>\n",
       "      <th>airconditioning</th>\n",
       "      <th>parking</th>\n",
       "      <th>prefarea</th>\n",
       "      <th>furnishingstatus</th>\n",
       "      <th>furnished</th>\n",
       "      <th>semi-furnished</th>\n",
       "      <th>unfurnished</th>\n",
       "    </tr>\n",
       "  </thead>\n",
       "  <tbody>\n",
       "    <tr>\n",
       "      <th>0</th>\n",
       "      <td>13300000</td>\n",
       "      <td>7420</td>\n",
       "      <td>4</td>\n",
       "      <td>2</td>\n",
       "      <td>3</td>\n",
       "      <td>1</td>\n",
       "      <td>0</td>\n",
       "      <td>0</td>\n",
       "      <td>0</td>\n",
       "      <td>1</td>\n",
       "      <td>2</td>\n",
       "      <td>1</td>\n",
       "      <td>furnished</td>\n",
       "      <td>1</td>\n",
       "      <td>0</td>\n",
       "      <td>0</td>\n",
       "    </tr>\n",
       "    <tr>\n",
       "      <th>1</th>\n",
       "      <td>12250000</td>\n",
       "      <td>8960</td>\n",
       "      <td>4</td>\n",
       "      <td>4</td>\n",
       "      <td>4</td>\n",
       "      <td>1</td>\n",
       "      <td>0</td>\n",
       "      <td>0</td>\n",
       "      <td>0</td>\n",
       "      <td>1</td>\n",
       "      <td>3</td>\n",
       "      <td>0</td>\n",
       "      <td>furnished</td>\n",
       "      <td>1</td>\n",
       "      <td>0</td>\n",
       "      <td>0</td>\n",
       "    </tr>\n",
       "    <tr>\n",
       "      <th>2</th>\n",
       "      <td>12250000</td>\n",
       "      <td>9960</td>\n",
       "      <td>3</td>\n",
       "      <td>2</td>\n",
       "      <td>2</td>\n",
       "      <td>1</td>\n",
       "      <td>0</td>\n",
       "      <td>1</td>\n",
       "      <td>0</td>\n",
       "      <td>0</td>\n",
       "      <td>2</td>\n",
       "      <td>1</td>\n",
       "      <td>semi-furnished</td>\n",
       "      <td>0</td>\n",
       "      <td>1</td>\n",
       "      <td>0</td>\n",
       "    </tr>\n",
       "    <tr>\n",
       "      <th>3</th>\n",
       "      <td>12215000</td>\n",
       "      <td>7500</td>\n",
       "      <td>4</td>\n",
       "      <td>2</td>\n",
       "      <td>2</td>\n",
       "      <td>1</td>\n",
       "      <td>0</td>\n",
       "      <td>1</td>\n",
       "      <td>0</td>\n",
       "      <td>1</td>\n",
       "      <td>3</td>\n",
       "      <td>1</td>\n",
       "      <td>furnished</td>\n",
       "      <td>1</td>\n",
       "      <td>0</td>\n",
       "      <td>0</td>\n",
       "    </tr>\n",
       "    <tr>\n",
       "      <th>4</th>\n",
       "      <td>11410000</td>\n",
       "      <td>7420</td>\n",
       "      <td>4</td>\n",
       "      <td>1</td>\n",
       "      <td>2</td>\n",
       "      <td>1</td>\n",
       "      <td>1</td>\n",
       "      <td>1</td>\n",
       "      <td>0</td>\n",
       "      <td>1</td>\n",
       "      <td>2</td>\n",
       "      <td>0</td>\n",
       "      <td>furnished</td>\n",
       "      <td>1</td>\n",
       "      <td>0</td>\n",
       "      <td>0</td>\n",
       "    </tr>\n",
       "  </tbody>\n",
       "</table>\n",
       "</div>"
      ],
      "text/plain": [
       "      price  area  bedrooms  bathrooms  stories  mainroad  guestroom  \\\n",
       "0  13300000  7420         4          2        3         1          0   \n",
       "1  12250000  8960         4          4        4         1          0   \n",
       "2  12250000  9960         3          2        2         1          0   \n",
       "3  12215000  7500         4          2        2         1          0   \n",
       "4  11410000  7420         4          1        2         1          1   \n",
       "\n",
       "   basement  hotwaterheating  airconditioning  parking  prefarea  \\\n",
       "0         0                0                1        2         1   \n",
       "1         0                0                1        3         0   \n",
       "2         1                0                0        2         1   \n",
       "3         1                0                1        3         1   \n",
       "4         1                0                1        2         0   \n",
       "\n",
       "  furnishingstatus  furnished  semi-furnished  unfurnished  \n",
       "0        furnished          1               0            0  \n",
       "1        furnished          1               0            0  \n",
       "2   semi-furnished          0               1            0  \n",
       "3        furnished          1               0            0  \n",
       "4        furnished          1               0            0  "
      ]
     },
     "execution_count": 713,
     "metadata": {},
     "output_type": "execute_result"
    }
   ],
   "source": [
    "area_dummies = pd.get_dummies(df.furnishingstatus)\n",
    "df = pd.concat([df, area_dummies], axis=1)\n",
    "df.head()"
   ]
  },
  {
   "cell_type": "code",
   "execution_count": 714,
   "id": "2f1b06c3",
   "metadata": {},
   "outputs": [
    {
     "data": {
      "text/html": [
       "<div>\n",
       "<style scoped>\n",
       "    .dataframe tbody tr th:only-of-type {\n",
       "        vertical-align: middle;\n",
       "    }\n",
       "\n",
       "    .dataframe tbody tr th {\n",
       "        vertical-align: top;\n",
       "    }\n",
       "\n",
       "    .dataframe thead th {\n",
       "        text-align: right;\n",
       "    }\n",
       "</style>\n",
       "<table border=\"1\" class=\"dataframe\">\n",
       "  <thead>\n",
       "    <tr style=\"text-align: right;\">\n",
       "      <th></th>\n",
       "      <th>price</th>\n",
       "      <th>area</th>\n",
       "      <th>bedrooms</th>\n",
       "      <th>bathrooms</th>\n",
       "      <th>stories</th>\n",
       "      <th>mainroad</th>\n",
       "      <th>guestroom</th>\n",
       "      <th>basement</th>\n",
       "      <th>hotwaterheating</th>\n",
       "      <th>airconditioning</th>\n",
       "      <th>parking</th>\n",
       "      <th>prefarea</th>\n",
       "      <th>furnishingstatus</th>\n",
       "      <th>furnished</th>\n",
       "      <th>semi</th>\n",
       "      <th>unfurnished</th>\n",
       "    </tr>\n",
       "  </thead>\n",
       "  <tbody>\n",
       "    <tr>\n",
       "      <th>0</th>\n",
       "      <td>13300000</td>\n",
       "      <td>7420</td>\n",
       "      <td>4</td>\n",
       "      <td>2</td>\n",
       "      <td>3</td>\n",
       "      <td>1</td>\n",
       "      <td>0</td>\n",
       "      <td>0</td>\n",
       "      <td>0</td>\n",
       "      <td>1</td>\n",
       "      <td>2</td>\n",
       "      <td>1</td>\n",
       "      <td>furnished</td>\n",
       "      <td>1</td>\n",
       "      <td>0</td>\n",
       "      <td>0</td>\n",
       "    </tr>\n",
       "    <tr>\n",
       "      <th>1</th>\n",
       "      <td>12250000</td>\n",
       "      <td>8960</td>\n",
       "      <td>4</td>\n",
       "      <td>4</td>\n",
       "      <td>4</td>\n",
       "      <td>1</td>\n",
       "      <td>0</td>\n",
       "      <td>0</td>\n",
       "      <td>0</td>\n",
       "      <td>1</td>\n",
       "      <td>3</td>\n",
       "      <td>0</td>\n",
       "      <td>furnished</td>\n",
       "      <td>1</td>\n",
       "      <td>0</td>\n",
       "      <td>0</td>\n",
       "    </tr>\n",
       "    <tr>\n",
       "      <th>2</th>\n",
       "      <td>12250000</td>\n",
       "      <td>9960</td>\n",
       "      <td>3</td>\n",
       "      <td>2</td>\n",
       "      <td>2</td>\n",
       "      <td>1</td>\n",
       "      <td>0</td>\n",
       "      <td>1</td>\n",
       "      <td>0</td>\n",
       "      <td>0</td>\n",
       "      <td>2</td>\n",
       "      <td>1</td>\n",
       "      <td>semi-furnished</td>\n",
       "      <td>0</td>\n",
       "      <td>1</td>\n",
       "      <td>0</td>\n",
       "    </tr>\n",
       "    <tr>\n",
       "      <th>3</th>\n",
       "      <td>12215000</td>\n",
       "      <td>7500</td>\n",
       "      <td>4</td>\n",
       "      <td>2</td>\n",
       "      <td>2</td>\n",
       "      <td>1</td>\n",
       "      <td>0</td>\n",
       "      <td>1</td>\n",
       "      <td>0</td>\n",
       "      <td>1</td>\n",
       "      <td>3</td>\n",
       "      <td>1</td>\n",
       "      <td>furnished</td>\n",
       "      <td>1</td>\n",
       "      <td>0</td>\n",
       "      <td>0</td>\n",
       "    </tr>\n",
       "    <tr>\n",
       "      <th>4</th>\n",
       "      <td>11410000</td>\n",
       "      <td>7420</td>\n",
       "      <td>4</td>\n",
       "      <td>1</td>\n",
       "      <td>2</td>\n",
       "      <td>1</td>\n",
       "      <td>1</td>\n",
       "      <td>1</td>\n",
       "      <td>0</td>\n",
       "      <td>1</td>\n",
       "      <td>2</td>\n",
       "      <td>0</td>\n",
       "      <td>furnished</td>\n",
       "      <td>1</td>\n",
       "      <td>0</td>\n",
       "      <td>0</td>\n",
       "    </tr>\n",
       "  </tbody>\n",
       "</table>\n",
       "</div>"
      ],
      "text/plain": [
       "      price  area  bedrooms  bathrooms  stories  mainroad  guestroom  \\\n",
       "0  13300000  7420         4          2        3         1          0   \n",
       "1  12250000  8960         4          4        4         1          0   \n",
       "2  12250000  9960         3          2        2         1          0   \n",
       "3  12215000  7500         4          2        2         1          0   \n",
       "4  11410000  7420         4          1        2         1          1   \n",
       "\n",
       "   basement  hotwaterheating  airconditioning  parking  prefarea  \\\n",
       "0         0                0                1        2         1   \n",
       "1         0                0                1        3         0   \n",
       "2         1                0                0        2         1   \n",
       "3         1                0                1        3         1   \n",
       "4         1                0                1        2         0   \n",
       "\n",
       "  furnishingstatus  furnished  semi  unfurnished  \n",
       "0        furnished          1     0            0  \n",
       "1        furnished          1     0            0  \n",
       "2   semi-furnished          0     1            0  \n",
       "3        furnished          1     0            0  \n",
       "4        furnished          1     0            0  "
      ]
     },
     "execution_count": 714,
     "metadata": {},
     "output_type": "execute_result"
    }
   ],
   "source": [
    "df = df.rename(columns={\"semi-furnished\":'semi'})\n",
    "df.head()"
   ]
  },
  {
   "cell_type": "markdown",
   "id": "36312a3e",
   "metadata": {},
   "source": [
    "Данные готовы к исследованию!"
   ]
  },
  {
   "cell_type": "markdown",
   "id": "5eb57e5b",
   "metadata": {},
   "source": [
    "###  Визуализация данных"
   ]
  },
  {
   "cell_type": "markdown",
   "id": "978a2fd3",
   "metadata": {},
   "source": [
    "**Числовые признаки**"
   ]
  },
  {
   "cell_type": "code",
   "execution_count": 715,
   "id": "73968e65",
   "metadata": {},
   "outputs": [
    {
     "data": {
      "text/plain": [
       "<Axes: xlabel='price', ylabel='Count'>"
      ]
     },
     "execution_count": 715,
     "metadata": {},
     "output_type": "execute_result"
    },
    {
     "data": {
      "image/png": "[encoded data removed]",
      "text/plain": [
       "<Figure size 640x480 with 1 Axes>"
      ]
     },
     "metadata": {},
     "output_type": "display_data"
    }
   ],
   "source": [
    "sns.histplot(data=df, x='price')"
   ]
  },
  {
   "cell_type": "code",
   "execution_count": 716,
   "id": "eaa732aa",
   "metadata": {},
   "outputs": [
    {
     "data": {
      "text/plain": [
       "<Axes: xlabel='area', ylabel='Count'>"
      ]
     },
     "execution_count": 716,
     "metadata": {},
     "output_type": "execute_result"
    },
    {
     "data": {
      "image/png": "[encoded data removed]",
      "text/plain": [
       "<Figure size 640x480 with 1 Axes>"
      ]
     },
     "metadata": {},
     "output_type": "display_data"
    }
   ],
   "source": [
    "sns.histplot(data=df, x='area')"
   ]
  },
  {
   "cell_type": "code",
   "execution_count": 717,
   "id": "478017b8",
   "metadata": {},
   "outputs": [
    {
     "data": {
      "text/plain": [
       "<Axes: xlabel='bedrooms', ylabel='Count'>"
      ]
     },
     "execution_count": 717,
     "metadata": {},
     "output_type": "execute_result"
    },
    {
     "data": {
      "image/png": "[encoded data removed]",
      "text/plain": [
       "<Figure size 640x480 with 1 Axes>"
      ]
     },
     "metadata": {},
     "output_type": "display_data"
    }
   ],
   "source": [
    "sns.histplot(data=df, x='bedrooms')"
   ]
  },
  {
   "cell_type": "code",
   "execution_count": 718,
   "id": "31c292e1",
   "metadata": {},
   "outputs": [
    {
     "data": {
      "text/plain": [
       "<Axes: xlabel='bathrooms', ylabel='Count'>"
      ]
     },
     "execution_count": 718,
     "metadata": {},
     "output_type": "execute_result"
    },
    {
     "data": {
      "image/png": "[encoded data removed]",
      "text/plain": [
       "<Figure size 640x480 with 1 Axes>"
      ]
     },
     "metadata": {},
     "output_type": "display_data"
    }
   ],
   "source": [
    "sns.histplot(data=df, x='bathrooms')"
   ]
  },
  {
   "cell_type": "code",
   "execution_count": 719,
   "id": "e79d6f4e",
   "metadata": {},
   "outputs": [
    {
     "data": {
      "text/plain": [
       "<Axes: xlabel='stories', ylabel='Count'>"
      ]
     },
     "execution_count": 719,
     "metadata": {},
     "output_type": "execute_result"
    },
    {
     "data": {
      "image/png": "[encoded data removed]",
      "text/plain": [
       "<Figure size 640x480 with 1 Axes>"
      ]
     },
     "metadata": {},
     "output_type": "display_data"
    }
   ],
   "source": [
    "sns.histplot(data=df, x='stories')"
   ]
  },
  {
   "cell_type": "code",
   "execution_count": 720,
   "id": "80094f14",
   "metadata": {},
   "outputs": [
    {
     "data": {
      "text/plain": [
       "<Axes: xlabel='parking', ylabel='Count'>"
      ]
     },
     "execution_count": 720,
     "metadata": {},
     "output_type": "execute_result"
    },
    {
     "data": {
      "image/png": "[encoded data removed]",
      "text/plain": [
       "<Figure size 640x480 with 1 Axes>"
      ]
     },
     "metadata": {},
     "output_type": "display_data"
    }
   ],
   "source": [
    "sns.histplot(data=df, x='parking')"
   ]
  },
  {
   "cell_type": "markdown",
   "id": "6fc7ddad",
   "metadata": {},
   "source": [
    "**Вывод:**\n",
    "1) bedrooms и price близки к нормальному распределению\n",
    "2) у остальных признаков преобладают маленькие значения"
   ]
  },
  {
   "cell_type": "markdown",
   "id": "67389bec",
   "metadata": {},
   "source": [
    "**Визуализация категориальных признаков**"
   ]
  },
  {
   "cell_type": "code",
   "execution_count": 722,
   "id": "1c5391e5",
   "metadata": {},
   "outputs": [
    {
     "data": {
      "text/plain": [
       "<Axes: xlabel='mainroad', ylabel='count'>"
      ]
     },
     "execution_count": 722,
     "metadata": {},
     "output_type": "execute_result"
    },
    {
     "data": {
      "image/png": "[encoded data removed]",
      "text/plain": [
       "<Figure size 640x480 with 1 Axes>"
      ]
     },
     "metadata": {},
     "output_type": "display_data"
    }
   ],
   "source": [
    "sns.countplot(data=df, x='mainroad')"
   ]
  },
  {
   "cell_type": "markdown",
   "id": "2a842366",
   "metadata": {},
   "source": [
    "**Вывод:** виден явный дизбаланс"
   ]
  },
  {
   "cell_type": "code",
   "execution_count": 723,
   "id": "df483957",
   "metadata": {},
   "outputs": [
    {
     "data": {
      "text/plain": [
       "<Axes: xlabel='guestroom', ylabel='count'>"
      ]
     },
     "execution_count": 723,
     "metadata": {},
     "output_type": "execute_result"
    },
    {
     "data": {
      "image/png": "[encoded data removed]",
      "text/plain": [
       "<Figure size 640x480 with 1 Axes>"
      ]
     },
     "metadata": {},
     "output_type": "display_data"
    }
   ],
   "source": [
    "sns.countplot(data=df, x='guestroom')"
   ]
  },
  {
   "cell_type": "markdown",
   "id": "275bc872",
   "metadata": {},
   "source": [
    "**Вывод:** явный дизбаланс"
   ]
  },
  {
   "cell_type": "code",
   "execution_count": 724,
   "id": "758b82b2",
   "metadata": {},
   "outputs": [
    {
     "data": {
      "text/plain": [
       "<Axes: xlabel='basement', ylabel='count'>"
      ]
     },
     "execution_count": 724,
     "metadata": {},
     "output_type": "execute_result"
    },
    {
     "data": {
      "image/png": "[encoded data removed]",
      "text/plain": [
       "<Figure size 640x480 with 1 Axes>"
      ]
     },
     "metadata": {},
     "output_type": "display_data"
    }
   ],
   "source": [
    "sns.countplot(data=df, x='basement')"
   ]
  },
  {
   "cell_type": "markdown",
   "id": "af7eac51",
   "metadata": {},
   "source": [
    "**Вывод:** небольшой дизбаланс"
   ]
  },
  {
   "cell_type": "code",
   "execution_count": 725,
   "id": "a82d4b77",
   "metadata": {},
   "outputs": [
    {
     "data": {
      "text/plain": [
       "<Axes: xlabel='hotwaterheating', ylabel='count'>"
      ]
     },
     "execution_count": 725,
     "metadata": {},
     "output_type": "execute_result"
    },
    {
     "data": {
      "image/png": "[encoded data removed]",
      "text/plain": [
       "<Figure size 640x480 with 1 Axes>"
      ]
     },
     "metadata": {},
     "output_type": "display_data"
    }
   ],
   "source": [
    "sns.countplot(data=df, x='hotwaterheating')"
   ]
  },
  {
   "cell_type": "markdown",
   "id": "fe19a08f",
   "metadata": {},
   "source": [
    "**Вывод:** явный дизбаланс"
   ]
  },
  {
   "cell_type": "code",
   "execution_count": 726,
   "id": "d698232d",
   "metadata": {},
   "outputs": [
    {
     "data": {
      "text/plain": [
       "<Axes: xlabel='airconditioning', ylabel='count'>"
      ]
     },
     "execution_count": 726,
     "metadata": {},
     "output_type": "execute_result"
    },
    {
     "data": {
      "image/png": "[encoded data removed]",
      "text/plain": [
       "<Figure size 640x480 with 1 Axes>"
      ]
     },
     "metadata": {},
     "output_type": "display_data"
    }
   ],
   "source": [
    "sns.countplot(data=df, x='airconditioning')"
   ]
  },
  {
   "cell_type": "markdown",
   "id": "5b229bf0",
   "metadata": {},
   "source": [
    "**Вывод:** небольшой дизбаланс"
   ]
  },
  {
   "cell_type": "code",
   "execution_count": 727,
   "id": "6edbe413",
   "metadata": {},
   "outputs": [
    {
     "data": {
      "text/plain": [
       "<Axes: xlabel='prefarea', ylabel='count'>"
      ]
     },
     "execution_count": 727,
     "metadata": {},
     "output_type": "execute_result"
    },
    {
     "data": {
      "image/png": "[encoded data removed]",
      "text/plain": [
       "<Figure size 640x480 with 1 Axes>"
      ]
     },
     "metadata": {},
     "output_type": "display_data"
    }
   ],
   "source": [
    "sns.countplot(data=df, x='prefarea')"
   ]
  },
  {
   "cell_type": "markdown",
   "id": "e6892117",
   "metadata": {},
   "source": [
    "**Вывод:** явный дизбаланс"
   ]
  },
  {
   "cell_type": "markdown",
   "id": "402a38a7",
   "metadata": {},
   "source": [
    "**Построим несколько графиков**"
   ]
  },
  {
   "cell_type": "code",
   "execution_count": 728,
   "id": "ca3bc0ca",
   "metadata": {},
   "outputs": [
    {
     "data": {
      "text/plain": [
       "<Axes: xlabel='area', ylabel='price'>"
      ]
     },
     "execution_count": 728,
     "metadata": {},
     "output_type": "execute_result"
    },
    {
     "data": {
      "image/png": "[encoded data removed]",
      "text/plain": [
       "<Figure size 640x480 with 1 Axes>"
      ]
     },
     "metadata": {},
     "output_type": "display_data"
    }
   ],
   "source": [
    "sns.scatterplot(data=df.sample(300), x='area', y='price', style='airconditioning', hue='prefarea')"
   ]
  },
  {
   "cell_type": "code",
   "execution_count": 729,
   "id": "8ed0f9e4",
   "metadata": {},
   "outputs": [
    {
     "data": {
      "text/plain": [
       "<Axes: xlabel='area', ylabel='price'>"
      ]
     },
     "execution_count": 729,
     "metadata": {},
     "output_type": "execute_result"
    },
    {
     "data": {
      "image/png": "[encoded data removed]",
      "text/plain": [
       "<Figure size 640x480 with 1 Axes>"
      ]
     },
     "metadata": {},
     "output_type": "display_data"
    }
   ],
   "source": [
    "sns.scatterplot(data=df.sample(300), x='area', y='price', style='hotwaterheating', hue='basement')"
   ]
  },
  {
   "cell_type": "markdown",
   "id": "122b2b0b",
   "metadata": {},
   "source": [
    "**Диаграммы рассеения**"
   ]
  },
  {
   "cell_type": "code",
   "execution_count": 730,
   "id": "5a17d46e",
   "metadata": {},
   "outputs": [
    {
     "data": {
      "text/plain": [
       "<Axes: xlabel='area', ylabel='price'>"
      ]
     },
     "execution_count": 730,
     "metadata": {},
     "output_type": "execute_result"
    },
    {
     "data": {
      "image/png": "[encoded data removed]",
      "text/plain": [
       "<Figure size 640x480 with 1 Axes>"
      ]
     },
     "metadata": {},
     "output_type": "display_data"
    }
   ],
   "source": [
    "sns.regplot(data=df, x='area', y='price', ci=None, line_kws={\"color\": \"r\"})"
   ]
  },
  {
   "cell_type": "markdown",
   "id": "c940e96f",
   "metadata": {},
   "source": [
    "**Вывод:** ценв растет с увеличением площади"
   ]
  },
  {
   "cell_type": "code",
   "execution_count": 731,
   "id": "19ef35bb",
   "metadata": {},
   "outputs": [
    {
     "data": {
      "text/plain": [
       "<Axes: xlabel='bathrooms', ylabel='price'>"
      ]
     },
     "execution_count": 731,
     "metadata": {},
     "output_type": "execute_result"
    },
    {
     "data": {
      "image/png": "[encoded data removed]",
      "text/plain": [
       "<Figure size 640x480 with 1 Axes>"
      ]
     },
     "metadata": {},
     "output_type": "display_data"
    }
   ],
   "source": [
    "sns.regplot(data=df, x='bathrooms', y='price', ci=None, line_kws={\"color\": \"r\"})"
   ]
  },
  {
   "cell_type": "markdown",
   "id": "16d6e5b1",
   "metadata": {},
   "source": [
    "**Вывод:** цена растет с увеличением сан-узлов"
   ]
  },
  {
   "cell_type": "code",
   "execution_count": 732,
   "id": "499cf0f6",
   "metadata": {},
   "outputs": [
    {
     "data": {
      "text/plain": [
       "<Axes: xlabel='bedrooms', ylabel='price'>"
      ]
     },
     "execution_count": 732,
     "metadata": {},
     "output_type": "execute_result"
    },
    {
     "data": {
      "image/png": "[encoded data removed]",
      "text/plain": [
       "<Figure size 640x480 with 1 Axes>"
      ]
     },
     "metadata": {},
     "output_type": "display_data"
    }
   ],
   "source": [
    "sns.regplot(data=df, x='bedrooms', y='price', ci=None, line_kws={\"color\": \"r\"})"
   ]
  },
  {
   "cell_type": "markdown",
   "id": "9c2a15a4",
   "metadata": {},
   "source": [
    "**Вывод:** цена растет с увеличением кол-ва спален"
   ]
  },
  {
   "cell_type": "code",
   "execution_count": 733,
   "id": "3e081b00",
   "metadata": {},
   "outputs": [
    {
     "data": {
      "text/plain": [
       "<Axes: xlabel='parking', ylabel='price'>"
      ]
     },
     "execution_count": 733,
     "metadata": {},
     "output_type": "execute_result"
    },
    {
     "data": {
      "image/png": "[encoded data removed]",
      "text/plain": [
       "<Figure size 640x480 with 1 Axes>"
      ]
     },
     "metadata": {},
     "output_type": "display_data"
    }
   ],
   "source": [
    "sns.regplot(data=df, x='parking', y='price', ci=None, line_kws={\"color\": \"r\"})"
   ]
  },
  {
   "cell_type": "markdown",
   "id": "bda96ce4",
   "metadata": {},
   "source": [
    "**Вывод:** цена растет с увеличением парковочных мест"
   ]
  },
  {
   "cell_type": "markdown",
   "id": "226db1aa",
   "metadata": {},
   "source": [
    "###  Подгонка модели и спецификация"
   ]
  },
  {
   "cell_type": "markdown",
   "id": "11b75b75",
   "metadata": {},
   "source": [
    "За целевую переменную берем log(price) чтобы числовие признаки не так сильно расходились между собой"
   ]
  },
  {
   "cell_type": "code",
   "execution_count": 734,
   "id": "62d08f97",
   "metadata": {},
   "outputs": [
    {
     "data": {
      "text/plain": [
       "Intercept          10.74\n",
       "area                0.00\n",
       "bedrooms            0.03\n",
       "bathrooms           0.16\n",
       "stories             0.09\n",
       "mainroad            0.12\n",
       "guestroom           0.07\n",
       "basement            0.09\n",
       "hotwaterheating     0.16\n",
       "airconditioning     0.17\n",
       "parking             0.04\n",
       "prefarea            0.13\n",
       "furnished           3.61\n",
       "semi                3.63\n",
       "unfurnished         3.50\n",
       "dtype: float64"
      ]
     },
     "execution_count": 734,
     "metadata": {},
     "output_type": "execute_result"
    }
   ],
   "source": [
    "# специфицируем модель через формулу\n",
    "mod = smf.ols(formula='np.log(price)~area+bedrooms+bathrooms+stories+mainroad+guestroom+basement+hotwaterheating+airconditioning+parking+prefarea++furnished+semi+unfurnished', data=df).fit()\n",
    "# Коэфициенты модели с округление\n",
    "mod.params.round(2)"
   ]
  },
  {
   "cell_type": "markdown",
   "id": "4a005149",
   "metadata": {},
   "source": [
    "Спецификация:\n",
    "    \n",
    "$log(price)=\\beta_0+\\beta_1area+\\beta_2bedrooms+\\beta_3bathrooms+\\beta_4stories+\\beta_5mainroad+\\beta_6guestroom+\\beta_7basement+\\beta_8hotwaterheating+\\beta_9airconditioning+\\beta_{10}parking+\\beta_{11}prefarea+\\beta_{12}furnished+\\beta_{13}semi+\\beta_{14}unfurnished+u$"
   ]
  },
  {
   "cell_type": "markdown",
   "id": "a576d95f",
   "metadata": {},
   "source": [
    "Интерпретация:\n",
    "1) С добавлением одного сан-узла цена дома увеличивается в среднем на 0.16%\n",
    "2) Незаконченночть ремонта уменьшает стоимость в среднем на 3.50%\n",
    "3) Наличия кондиционирования увеличивает стоимость в среднем на 0.17%"
   ]
  },
  {
   "cell_type": "markdown",
   "id": "d7553129",
   "metadata": {},
   "source": [
    "###  Вычислим коэффиценты детерминации"
   ]
  },
  {
   "cell_type": "code",
   "execution_count": 735,
   "id": "e595acc2",
   "metadata": {},
   "outputs": [
    {
     "name": "stdout",
     "output_type": "stream",
     "text": [
      "R^2 = 0.7\n",
      "R^2_adj = 0.69\n"
     ]
    }
   ],
   "source": [
    "# R^2\n",
    "R2 = mod.rsquared.round(2)\n",
    "# adj R^2\n",
    "R2_adj = mod.rsquared_adj.round(2)\n",
    "print(\"R^2 =\", R2)\n",
    "print(\"R^2_adj =\", R2_adj)"
   ]
  },
  {
   "cell_type": "markdown",
   "id": "a647f6a5",
   "metadata": {},
   "source": [
    "**Вывод:** целевая переменная неплохо описывается предикторными"
   ]
  },
  {
   "cell_type": "markdown",
   "id": "013cdf65",
   "metadata": {},
   "source": [
    "###  TSS ESS RSS"
   ]
  },
  {
   "cell_type": "code",
   "execution_count": 736,
   "id": "0816c762",
   "metadata": {},
   "outputs": [
    {
     "name": "stdout",
     "output_type": "stream",
     "text": [
      "TSS = 75.348\n",
      "ESS = 52.665\n",
      "RSS = 22.682\n"
     ]
    }
   ],
   "source": [
    "TSS = mod.centered_tss\n",
    "ESS = mod.ess\n",
    "RSS = mod.ssr\n",
    "print(\"TSS =\", TSS.round(3))\n",
    "print(\"ESS =\", ESS.round(3))\n",
    "print(\"RSS =\", RSS.round(3))"
   ]
  },
  {
   "cell_type": "markdown",
   "id": "a636fbdb",
   "metadata": {},
   "source": [
    "###  Предсказанное значение и остаток для нескольких наблюдений"
   ]
  },
  {
   "cell_type": "code",
   "execution_count": 737,
   "id": "d789091b",
   "metadata": {},
   "outputs": [
    {
     "data": {
      "text/html": [
       "<div>\n",
       "<style scoped>\n",
       "    .dataframe tbody tr th:only-of-type {\n",
       "        vertical-align: middle;\n",
       "    }\n",
       "\n",
       "    .dataframe tbody tr th {\n",
       "        vertical-align: top;\n",
       "    }\n",
       "\n",
       "    .dataframe thead th {\n",
       "        text-align: right;\n",
       "    }\n",
       "</style>\n",
       "<table border=\"1\" class=\"dataframe\">\n",
       "  <thead>\n",
       "    <tr style=\"text-align: right;\">\n",
       "      <th></th>\n",
       "      <th>i</th>\n",
       "      <th>Факт</th>\n",
       "      <th>Fitted</th>\n",
       "      <th>Остаток</th>\n",
       "    </tr>\n",
       "  </thead>\n",
       "  <tbody>\n",
       "    <tr>\n",
       "      <th>100</th>\n",
       "      <td>100</td>\n",
       "      <td>6230000</td>\n",
       "      <td>5.852577e+06</td>\n",
       "      <td>3.774235e+05</td>\n",
       "    </tr>\n",
       "    <tr>\n",
       "      <th>101</th>\n",
       "      <td>101</td>\n",
       "      <td>6230000</td>\n",
       "      <td>4.527431e+06</td>\n",
       "      <td>1.702569e+06</td>\n",
       "    </tr>\n",
       "    <tr>\n",
       "      <th>102</th>\n",
       "      <td>102</td>\n",
       "      <td>6195000</td>\n",
       "      <td>7.457509e+06</td>\n",
       "      <td>-1.262509e+06</td>\n",
       "    </tr>\n",
       "    <tr>\n",
       "      <th>103</th>\n",
       "      <td>103</td>\n",
       "      <td>6195000</td>\n",
       "      <td>6.675302e+06</td>\n",
       "      <td>-4.803017e+05</td>\n",
       "    </tr>\n",
       "    <tr>\n",
       "      <th>104</th>\n",
       "      <td>104</td>\n",
       "      <td>6195000</td>\n",
       "      <td>6.091452e+06</td>\n",
       "      <td>1.035476e+05</td>\n",
       "    </tr>\n",
       "    <tr>\n",
       "      <th>105</th>\n",
       "      <td>105</td>\n",
       "      <td>6160000</td>\n",
       "      <td>4.730738e+06</td>\n",
       "      <td>1.429262e+06</td>\n",
       "    </tr>\n",
       "    <tr>\n",
       "      <th>106</th>\n",
       "      <td>106</td>\n",
       "      <td>6160000</td>\n",
       "      <td>6.470969e+06</td>\n",
       "      <td>-3.109685e+05</td>\n",
       "    </tr>\n",
       "    <tr>\n",
       "      <th>107</th>\n",
       "      <td>107</td>\n",
       "      <td>6125000</td>\n",
       "      <td>4.954147e+06</td>\n",
       "      <td>1.170853e+06</td>\n",
       "    </tr>\n",
       "    <tr>\n",
       "      <th>108</th>\n",
       "      <td>108</td>\n",
       "      <td>6107500</td>\n",
       "      <td>4.174167e+06</td>\n",
       "      <td>1.933333e+06</td>\n",
       "    </tr>\n",
       "    <tr>\n",
       "      <th>109</th>\n",
       "      <td>109</td>\n",
       "      <td>6090000</td>\n",
       "      <td>6.700806e+06</td>\n",
       "      <td>-6.108058e+05</td>\n",
       "    </tr>\n",
       "  </tbody>\n",
       "</table>\n",
       "</div>"
      ],
      "text/plain": [
       "       i     Факт        Fitted       Остаток\n",
       "100  100  6230000  5.852577e+06  3.774235e+05\n",
       "101  101  6230000  4.527431e+06  1.702569e+06\n",
       "102  102  6195000  7.457509e+06 -1.262509e+06\n",
       "103  103  6195000  6.675302e+06 -4.803017e+05\n",
       "104  104  6195000  6.091452e+06  1.035476e+05\n",
       "105  105  6160000  4.730738e+06  1.429262e+06\n",
       "106  106  6160000  6.470969e+06 -3.109685e+05\n",
       "107  107  6125000  4.954147e+06  1.170853e+06\n",
       "108  108  6107500  4.174167e+06  1.933333e+06\n",
       "109  109  6090000  6.700806e+06 -6.108058e+05"
      ]
     },
     "execution_count": 737,
     "metadata": {},
     "output_type": "execute_result"
    }
   ],
   "source": [
    "ind = np.arange(100, 110)\n",
    "data = pd.DataFrame({'i': ind, 'Факт': df[\"price\"][ind], 'Fitted': np.exp(mod.predict()[ind]), 'Остаток': df[\"price\"][ind] - np.exp(mod.predict()[ind])})\n",
    "data"
   ]
  },
  {
   "cell_type": "markdown",
   "id": "59a9d1d6",
   "metadata": {},
   "source": [
    "###  Cтандартная ошибка регрессии"
   ]
  },
  {
   "cell_type": "code",
   "execution_count": 738,
   "id": "21a92c24",
   "metadata": {},
   "outputs": [
    {
     "name": "stdout",
     "output_type": "stream",
     "text": [
      "s = 0.2071\n"
     ]
    }
   ],
   "source": [
    "n = len(df[\"price\"])\n",
    "k = 15\n",
    "s = np.sqrt(RSS / (n - k - 1))\n",
    "print(\"s =\", s.round(4))"
   ]
  },
  {
   "cell_type": "markdown",
   "id": "f2f9672c",
   "metadata": {},
   "source": [
    "###  Значимсть коэффицентов регрессии"
   ]
  },
  {
   "cell_type": "code",
   "execution_count": 739,
   "id": "094dfdf7",
   "metadata": {},
   "outputs": [
    {
     "data": {
      "text/html": [
       "<div>\n",
       "<style scoped>\n",
       "    .dataframe tbody tr th:only-of-type {\n",
       "        vertical-align: middle;\n",
       "    }\n",
       "\n",
       "    .dataframe tbody tr th {\n",
       "        vertical-align: top;\n",
       "    }\n",
       "\n",
       "    .dataframe thead th {\n",
       "        text-align: right;\n",
       "    }\n",
       "</style>\n",
       "<table border=\"1\" class=\"dataframe\">\n",
       "  <thead>\n",
       "    <tr style=\"text-align: right;\">\n",
       "      <th></th>\n",
       "      <th>coef</th>\n",
       "      <th>std err</th>\n",
       "      <th>t</th>\n",
       "      <th>P&gt;|t|</th>\n",
       "      <th>[0.025</th>\n",
       "      <th>0.975]</th>\n",
       "    </tr>\n",
       "  </thead>\n",
       "  <tbody>\n",
       "    <tr>\n",
       "      <th>Intercept</th>\n",
       "      <td>10.741300</td>\n",
       "      <td>0.035000</td>\n",
       "      <td>306.466</td>\n",
       "      <td>0.000</td>\n",
       "      <td>10.67200</td>\n",
       "      <td>10.810000</td>\n",
       "    </tr>\n",
       "    <tr>\n",
       "      <th>area</th>\n",
       "      <td>0.000049</td>\n",
       "      <td>0.000005</td>\n",
       "      <td>10.528</td>\n",
       "      <td>0.000</td>\n",
       "      <td>0.00004</td>\n",
       "      <td>0.000059</td>\n",
       "    </tr>\n",
       "    <tr>\n",
       "      <th>bedrooms</th>\n",
       "      <td>0.029500</td>\n",
       "      <td>0.014000</td>\n",
       "      <td>2.098</td>\n",
       "      <td>0.036</td>\n",
       "      <td>0.00200</td>\n",
       "      <td>0.057000</td>\n",
       "    </tr>\n",
       "    <tr>\n",
       "      <th>bathrooms</th>\n",
       "      <td>0.163200</td>\n",
       "      <td>0.020000</td>\n",
       "      <td>8.159</td>\n",
       "      <td>0.000</td>\n",
       "      <td>0.12400</td>\n",
       "      <td>0.203000</td>\n",
       "    </tr>\n",
       "    <tr>\n",
       "      <th>stories</th>\n",
       "      <td>0.090100</td>\n",
       "      <td>0.012000</td>\n",
       "      <td>7.258</td>\n",
       "      <td>0.000</td>\n",
       "      <td>0.06600</td>\n",
       "      <td>0.115000</td>\n",
       "    </tr>\n",
       "    <tr>\n",
       "      <th>mainroad</th>\n",
       "      <td>0.117500</td>\n",
       "      <td>0.028000</td>\n",
       "      <td>4.268</td>\n",
       "      <td>0.000</td>\n",
       "      <td>0.06300</td>\n",
       "      <td>0.172000</td>\n",
       "    </tr>\n",
       "    <tr>\n",
       "      <th>guestroom</th>\n",
       "      <td>0.069800</td>\n",
       "      <td>0.025000</td>\n",
       "      <td>2.738</td>\n",
       "      <td>0.006</td>\n",
       "      <td>0.02000</td>\n",
       "      <td>0.120000</td>\n",
       "    </tr>\n",
       "    <tr>\n",
       "      <th>basement</th>\n",
       "      <td>0.089300</td>\n",
       "      <td>0.021000</td>\n",
       "      <td>4.185</td>\n",
       "      <td>0.000</td>\n",
       "      <td>0.04700</td>\n",
       "      <td>0.131000</td>\n",
       "    </tr>\n",
       "    <tr>\n",
       "      <th>hotwaterheating</th>\n",
       "      <td>0.163400</td>\n",
       "      <td>0.043000</td>\n",
       "      <td>3.784</td>\n",
       "      <td>0.000</td>\n",
       "      <td>0.07900</td>\n",
       "      <td>0.248000</td>\n",
       "    </tr>\n",
       "    <tr>\n",
       "      <th>airconditioning</th>\n",
       "      <td>0.174800</td>\n",
       "      <td>0.021000</td>\n",
       "      <td>8.336</td>\n",
       "      <td>0.000</td>\n",
       "      <td>0.13400</td>\n",
       "      <td>0.216000</td>\n",
       "    </tr>\n",
       "    <tr>\n",
       "      <th>parking</th>\n",
       "      <td>0.044800</td>\n",
       "      <td>0.011000</td>\n",
       "      <td>3.953</td>\n",
       "      <td>0.000</td>\n",
       "      <td>0.02300</td>\n",
       "      <td>0.067000</td>\n",
       "    </tr>\n",
       "    <tr>\n",
       "      <th>prefarea</th>\n",
       "      <td>0.126800</td>\n",
       "      <td>0.022000</td>\n",
       "      <td>5.661</td>\n",
       "      <td>0.000</td>\n",
       "      <td>0.08300</td>\n",
       "      <td>0.171000</td>\n",
       "    </tr>\n",
       "    <tr>\n",
       "      <th>furnished</th>\n",
       "      <td>3.611100</td>\n",
       "      <td>0.020000</td>\n",
       "      <td>182.447</td>\n",
       "      <td>0.000</td>\n",
       "      <td>3.57200</td>\n",
       "      <td>3.650000</td>\n",
       "    </tr>\n",
       "    <tr>\n",
       "      <th>semi</th>\n",
       "      <td>3.629100</td>\n",
       "      <td>0.017000</td>\n",
       "      <td>215.492</td>\n",
       "      <td>0.000</td>\n",
       "      <td>3.59600</td>\n",
       "      <td>3.662000</td>\n",
       "    </tr>\n",
       "    <tr>\n",
       "      <th>unfurnished</th>\n",
       "      <td>3.501200</td>\n",
       "      <td>0.016000</td>\n",
       "      <td>220.775</td>\n",
       "      <td>0.000</td>\n",
       "      <td>3.47000</td>\n",
       "      <td>3.532000</td>\n",
       "    </tr>\n",
       "  </tbody>\n",
       "</table>\n",
       "</div>"
      ],
      "text/plain": [
       "                      coef   std err        t  P>|t|    [0.025     0.975]\n",
       "Intercept        10.741300  0.035000  306.466  0.000  10.67200  10.810000\n",
       "area              0.000049  0.000005   10.528  0.000   0.00004   0.000059\n",
       "bedrooms          0.029500  0.014000    2.098  0.036   0.00200   0.057000\n",
       "bathrooms         0.163200  0.020000    8.159  0.000   0.12400   0.203000\n",
       "stories           0.090100  0.012000    7.258  0.000   0.06600   0.115000\n",
       "mainroad          0.117500  0.028000    4.268  0.000   0.06300   0.172000\n",
       "guestroom         0.069800  0.025000    2.738  0.006   0.02000   0.120000\n",
       "basement          0.089300  0.021000    4.185  0.000   0.04700   0.131000\n",
       "hotwaterheating   0.163400  0.043000    3.784  0.000   0.07900   0.248000\n",
       "airconditioning   0.174800  0.021000    8.336  0.000   0.13400   0.216000\n",
       "parking           0.044800  0.011000    3.953  0.000   0.02300   0.067000\n",
       "prefarea          0.126800  0.022000    5.661  0.000   0.08300   0.171000\n",
       "furnished         3.611100  0.020000  182.447  0.000   3.57200   3.650000\n",
       "semi              3.629100  0.017000  215.492  0.000   3.59600   3.662000\n",
       "unfurnished       3.501200  0.016000  220.775  0.000   3.47000   3.532000"
      ]
     },
     "execution_count": 739,
     "metadata": {},
     "output_type": "execute_result"
    }
   ],
   "source": [
    "table = mod.summary().tables[1]\n",
    "df_t = pd.read_html(table.as_html(), header=0, index_col=0)[0] # Эту строку запоминать не нужно\n",
    "df_t"
   ]
  },
  {
   "cell_type": "markdown",
   "id": "66f0c818",
   "metadata": {},
   "source": [
    "Вычислим критическое значение для t-теста c уровнем значимости 10%."
   ]
  },
  {
   "cell_type": "code",
   "execution_count": 740,
   "id": "087405d3",
   "metadata": {},
   "outputs": [
    {
     "name": "stdout",
     "output_type": "stream",
     "text": [
      "Уровень значимости alpha:  0.1\n",
      "Критическое значение t_crit:  1.648\n"
     ]
    }
   ],
   "source": [
    "alpha = 0.1 # уровень значимости\n",
    "print('Уровень значимости alpha: ', alpha)\n",
    "DF = int(mod.df_resid) # число степеней свободы \n",
    "t_crit = scipy.stats.t.ppf(1-alpha/2, DF)\n",
    "print('Критическое значение t_crit: ', t_crit.round(3))"
   ]
  },
  {
   "cell_type": "code",
   "execution_count": 741,
   "id": "56f8d582",
   "metadata": {},
   "outputs": [
    {
     "data": {
      "text/html": [
       "<div>\n",
       "<style scoped>\n",
       "    .dataframe tbody tr th:only-of-type {\n",
       "        vertical-align: middle;\n",
       "    }\n",
       "\n",
       "    .dataframe tbody tr th {\n",
       "        vertical-align: top;\n",
       "    }\n",
       "\n",
       "    .dataframe thead th {\n",
       "        text-align: right;\n",
       "    }\n",
       "</style>\n",
       "<table border=\"1\" class=\"dataframe\">\n",
       "  <thead>\n",
       "    <tr style=\"text-align: right;\">\n",
       "      <th></th>\n",
       "      <th>coef</th>\n",
       "      <th>std err</th>\n",
       "      <th>t</th>\n",
       "      <th>P&gt;|t|</th>\n",
       "      <th>[0.025</th>\n",
       "      <th>0.975]</th>\n",
       "      <th>znachimosty</th>\n",
       "    </tr>\n",
       "  </thead>\n",
       "  <tbody>\n",
       "    <tr>\n",
       "      <th>Intercept</th>\n",
       "      <td>10.741300</td>\n",
       "      <td>0.035000</td>\n",
       "      <td>306.466</td>\n",
       "      <td>0.000</td>\n",
       "      <td>10.67200</td>\n",
       "      <td>10.810000</td>\n",
       "      <td>znachim</td>\n",
       "    </tr>\n",
       "    <tr>\n",
       "      <th>area</th>\n",
       "      <td>0.000049</td>\n",
       "      <td>0.000005</td>\n",
       "      <td>10.528</td>\n",
       "      <td>0.000</td>\n",
       "      <td>0.00004</td>\n",
       "      <td>0.000059</td>\n",
       "      <td>znachim</td>\n",
       "    </tr>\n",
       "    <tr>\n",
       "      <th>bedrooms</th>\n",
       "      <td>0.029500</td>\n",
       "      <td>0.014000</td>\n",
       "      <td>2.098</td>\n",
       "      <td>0.036</td>\n",
       "      <td>0.00200</td>\n",
       "      <td>0.057000</td>\n",
       "      <td>znachim</td>\n",
       "    </tr>\n",
       "    <tr>\n",
       "      <th>bathrooms</th>\n",
       "      <td>0.163200</td>\n",
       "      <td>0.020000</td>\n",
       "      <td>8.159</td>\n",
       "      <td>0.000</td>\n",
       "      <td>0.12400</td>\n",
       "      <td>0.203000</td>\n",
       "      <td>znachim</td>\n",
       "    </tr>\n",
       "    <tr>\n",
       "      <th>stories</th>\n",
       "      <td>0.090100</td>\n",
       "      <td>0.012000</td>\n",
       "      <td>7.258</td>\n",
       "      <td>0.000</td>\n",
       "      <td>0.06600</td>\n",
       "      <td>0.115000</td>\n",
       "      <td>znachim</td>\n",
       "    </tr>\n",
       "    <tr>\n",
       "      <th>mainroad</th>\n",
       "      <td>0.117500</td>\n",
       "      <td>0.028000</td>\n",
       "      <td>4.268</td>\n",
       "      <td>0.000</td>\n",
       "      <td>0.06300</td>\n",
       "      <td>0.172000</td>\n",
       "      <td>znachim</td>\n",
       "    </tr>\n",
       "    <tr>\n",
       "      <th>guestroom</th>\n",
       "      <td>0.069800</td>\n",
       "      <td>0.025000</td>\n",
       "      <td>2.738</td>\n",
       "      <td>0.006</td>\n",
       "      <td>0.02000</td>\n",
       "      <td>0.120000</td>\n",
       "      <td>znachim</td>\n",
       "    </tr>\n",
       "    <tr>\n",
       "      <th>basement</th>\n",
       "      <td>0.089300</td>\n",
       "      <td>0.021000</td>\n",
       "      <td>4.185</td>\n",
       "      <td>0.000</td>\n",
       "      <td>0.04700</td>\n",
       "      <td>0.131000</td>\n",
       "      <td>znachim</td>\n",
       "    </tr>\n",
       "    <tr>\n",
       "      <th>hotwaterheating</th>\n",
       "      <td>0.163400</td>\n",
       "      <td>0.043000</td>\n",
       "      <td>3.784</td>\n",
       "      <td>0.000</td>\n",
       "      <td>0.07900</td>\n",
       "      <td>0.248000</td>\n",
       "      <td>znachim</td>\n",
       "    </tr>\n",
       "    <tr>\n",
       "      <th>airconditioning</th>\n",
       "      <td>0.174800</td>\n",
       "      <td>0.021000</td>\n",
       "      <td>8.336</td>\n",
       "      <td>0.000</td>\n",
       "      <td>0.13400</td>\n",
       "      <td>0.216000</td>\n",
       "      <td>znachim</td>\n",
       "    </tr>\n",
       "    <tr>\n",
       "      <th>parking</th>\n",
       "      <td>0.044800</td>\n",
       "      <td>0.011000</td>\n",
       "      <td>3.953</td>\n",
       "      <td>0.000</td>\n",
       "      <td>0.02300</td>\n",
       "      <td>0.067000</td>\n",
       "      <td>znachim</td>\n",
       "    </tr>\n",
       "    <tr>\n",
       "      <th>prefarea</th>\n",
       "      <td>0.126800</td>\n",
       "      <td>0.022000</td>\n",
       "      <td>5.661</td>\n",
       "      <td>0.000</td>\n",
       "      <td>0.08300</td>\n",
       "      <td>0.171000</td>\n",
       "      <td>znachim</td>\n",
       "    </tr>\n",
       "    <tr>\n",
       "      <th>furnished</th>\n",
       "      <td>3.611100</td>\n",
       "      <td>0.020000</td>\n",
       "      <td>182.447</td>\n",
       "      <td>0.000</td>\n",
       "      <td>3.57200</td>\n",
       "      <td>3.650000</td>\n",
       "      <td>znachim</td>\n",
       "    </tr>\n",
       "    <tr>\n",
       "      <th>semi</th>\n",
       "      <td>3.629100</td>\n",
       "      <td>0.017000</td>\n",
       "      <td>215.492</td>\n",
       "      <td>0.000</td>\n",
       "      <td>3.59600</td>\n",
       "      <td>3.662000</td>\n",
       "      <td>znachim</td>\n",
       "    </tr>\n",
       "    <tr>\n",
       "      <th>unfurnished</th>\n",
       "      <td>3.501200</td>\n",
       "      <td>0.016000</td>\n",
       "      <td>220.775</td>\n",
       "      <td>0.000</td>\n",
       "      <td>3.47000</td>\n",
       "      <td>3.532000</td>\n",
       "      <td>znachim</td>\n",
       "    </tr>\n",
       "  </tbody>\n",
       "</table>\n",
       "</div>"
      ],
      "text/plain": [
       "                      coef   std err        t  P>|t|    [0.025     0.975]  \\\n",
       "Intercept        10.741300  0.035000  306.466  0.000  10.67200  10.810000   \n",
       "area              0.000049  0.000005   10.528  0.000   0.00004   0.000059   \n",
       "bedrooms          0.029500  0.014000    2.098  0.036   0.00200   0.057000   \n",
       "bathrooms         0.163200  0.020000    8.159  0.000   0.12400   0.203000   \n",
       "stories           0.090100  0.012000    7.258  0.000   0.06600   0.115000   \n",
       "mainroad          0.117500  0.028000    4.268  0.000   0.06300   0.172000   \n",
       "guestroom         0.069800  0.025000    2.738  0.006   0.02000   0.120000   \n",
       "basement          0.089300  0.021000    4.185  0.000   0.04700   0.131000   \n",
       "hotwaterheating   0.163400  0.043000    3.784  0.000   0.07900   0.248000   \n",
       "airconditioning   0.174800  0.021000    8.336  0.000   0.13400   0.216000   \n",
       "parking           0.044800  0.011000    3.953  0.000   0.02300   0.067000   \n",
       "prefarea          0.126800  0.022000    5.661  0.000   0.08300   0.171000   \n",
       "furnished         3.611100  0.020000  182.447  0.000   3.57200   3.650000   \n",
       "semi              3.629100  0.017000  215.492  0.000   3.59600   3.662000   \n",
       "unfurnished       3.501200  0.016000  220.775  0.000   3.47000   3.532000   \n",
       "\n",
       "                znachimosty  \n",
       "Intercept           znachim  \n",
       "area                znachim  \n",
       "bedrooms            znachim  \n",
       "bathrooms           znachim  \n",
       "stories             znachim  \n",
       "mainroad            znachim  \n",
       "guestroom           znachim  \n",
       "basement            znachim  \n",
       "hotwaterheating     znachim  \n",
       "airconditioning     znachim  \n",
       "parking             znachim  \n",
       "prefarea            znachim  \n",
       "furnished           znachim  \n",
       "semi                znachim  \n",
       "unfurnished         znachim  "
      ]
     },
     "execution_count": 741,
     "metadata": {},
     "output_type": "execute_result"
    }
   ],
   "source": [
    "df_t['znachimosty'] = df_t.apply(lambda x : 'znachim' if np.abs(x['t']) > t_crit else 'ne znachim', axis = 1 )\n",
    "df_t"
   ]
  },
  {
   "cell_type": "markdown",
   "id": "286f7f4a",
   "metadata": {},
   "source": [
    "Построим 95% довирительные интервалы для каждого коэффицента"
   ]
  },
  {
   "cell_type": "code",
   "execution_count": 742,
   "id": "0f8d4593",
   "metadata": {},
   "outputs": [
    {
     "data": {
      "text/html": [
       "<div>\n",
       "<style scoped>\n",
       "    .dataframe tbody tr th:only-of-type {\n",
       "        vertical-align: middle;\n",
       "    }\n",
       "\n",
       "    .dataframe tbody tr th {\n",
       "        vertical-align: top;\n",
       "    }\n",
       "\n",
       "    .dataframe thead th {\n",
       "        text-align: right;\n",
       "    }\n",
       "</style>\n",
       "<table border=\"1\" class=\"dataframe\">\n",
       "  <thead>\n",
       "    <tr style=\"text-align: right;\">\n",
       "      <th></th>\n",
       "      <th>0</th>\n",
       "      <th>1</th>\n",
       "    </tr>\n",
       "  </thead>\n",
       "  <tbody>\n",
       "    <tr>\n",
       "      <th>Intercept</th>\n",
       "      <td>10.672447</td>\n",
       "      <td>10.810150</td>\n",
       "    </tr>\n",
       "    <tr>\n",
       "      <th>area</th>\n",
       "      <td>0.000040</td>\n",
       "      <td>0.000059</td>\n",
       "    </tr>\n",
       "    <tr>\n",
       "      <th>bedrooms</th>\n",
       "      <td>0.001871</td>\n",
       "      <td>0.057072</td>\n",
       "    </tr>\n",
       "    <tr>\n",
       "      <th>bathrooms</th>\n",
       "      <td>0.123908</td>\n",
       "      <td>0.202501</td>\n",
       "    </tr>\n",
       "    <tr>\n",
       "      <th>stories</th>\n",
       "      <td>0.065736</td>\n",
       "      <td>0.114527</td>\n",
       "    </tr>\n",
       "    <tr>\n",
       "      <th>mainroad</th>\n",
       "      <td>0.063402</td>\n",
       "      <td>0.171544</td>\n",
       "    </tr>\n",
       "    <tr>\n",
       "      <th>guestroom</th>\n",
       "      <td>0.019716</td>\n",
       "      <td>0.119863</td>\n",
       "    </tr>\n",
       "    <tr>\n",
       "      <th>basement</th>\n",
       "      <td>0.047385</td>\n",
       "      <td>0.131241</td>\n",
       "    </tr>\n",
       "    <tr>\n",
       "      <th>hotwaterheating</th>\n",
       "      <td>0.078586</td>\n",
       "      <td>0.248263</td>\n",
       "    </tr>\n",
       "    <tr>\n",
       "      <th>airconditioning</th>\n",
       "      <td>0.133613</td>\n",
       "      <td>0.216002</td>\n",
       "    </tr>\n",
       "    <tr>\n",
       "      <th>parking</th>\n",
       "      <td>0.022522</td>\n",
       "      <td>0.067023</td>\n",
       "    </tr>\n",
       "    <tr>\n",
       "      <th>prefarea</th>\n",
       "      <td>0.082770</td>\n",
       "      <td>0.170731</td>\n",
       "    </tr>\n",
       "    <tr>\n",
       "      <th>furnished</th>\n",
       "      <td>3.572201</td>\n",
       "      <td>3.649963</td>\n",
       "    </tr>\n",
       "    <tr>\n",
       "      <th>semi</th>\n",
       "      <td>3.595968</td>\n",
       "      <td>3.662133</td>\n",
       "    </tr>\n",
       "    <tr>\n",
       "      <th>unfurnished</th>\n",
       "      <td>3.470013</td>\n",
       "      <td>3.532319</td>\n",
       "    </tr>\n",
       "  </tbody>\n",
       "</table>\n",
       "</div>"
      ],
      "text/plain": [
       "                         0          1\n",
       "Intercept        10.672447  10.810150\n",
       "area              0.000040   0.000059\n",
       "bedrooms          0.001871   0.057072\n",
       "bathrooms         0.123908   0.202501\n",
       "stories           0.065736   0.114527\n",
       "mainroad          0.063402   0.171544\n",
       "guestroom         0.019716   0.119863\n",
       "basement          0.047385   0.131241\n",
       "hotwaterheating   0.078586   0.248263\n",
       "airconditioning   0.133613   0.216002\n",
       "parking           0.022522   0.067023\n",
       "prefarea          0.082770   0.170731\n",
       "furnished         3.572201   3.649963\n",
       "semi              3.595968   3.662133\n",
       "unfurnished       3.470013   3.532319"
      ]
     },
     "execution_count": 742,
     "metadata": {},
     "output_type": "execute_result"
    }
   ],
   "source": [
    "mod.conf_int(alpha=0.05)"
   ]
  },
  {
   "cell_type": "markdown",
   "id": "14c43e08",
   "metadata": {},
   "source": [
    "### Значимость регрессии"
   ]
  },
  {
   "cell_type": "code",
   "execution_count": 743,
   "id": "1194326f",
   "metadata": {},
   "outputs": [
    {
     "data": {
      "text/plain": [
       "(94.839, 4.204281734776599e-129)"
      ]
     },
     "execution_count": 743,
     "metadata": {},
     "output_type": "execute_result"
    }
   ],
   "source": [
    "# Результаты F-теста на значимость регрессии (тестовая статистика и P-значение)\n",
    "mod.fvalue.round(3), mod.f_pvalue"
   ]
  },
  {
   "cell_type": "code",
   "execution_count": 744,
   "id": "36b22c3c",
   "metadata": {},
   "outputs": [
    {
     "data": {
      "text/plain": [
       "1.739"
      ]
     },
     "execution_count": 744,
     "metadata": {},
     "output_type": "execute_result"
    }
   ],
   "source": [
    "# 5%-критическое значение F-распределения\n",
    "f.ppf(q=1-0.05, dfn=mod.df_model, dfd=mod.df_resid).round(3)"
   ]
  },
  {
   "cell_type": "markdown",
   "id": "d71a3bd8",
   "metadata": {},
   "source": [
    "**Вывод: ререссия значима**"
   ]
  },
  {
   "cell_type": "markdown",
   "id": "fe876606",
   "metadata": {},
   "source": [
    "###  Cовместная значимость bedrooms, bathrooms и  stories т.е. гипотеза $H_0:\\beta_{bedrooms}=\\beta_{bathrooms}=\\beta_{stories}=0$"
   ]
  },
  {
   "cell_type": "code",
   "execution_count": 745,
   "id": "2edb5e6f",
   "metadata": {},
   "outputs": [
    {
     "name": "stdout",
     "output_type": "stream",
     "text": [
      "<F test: F=74.68745658182861, p=2.5784942836523564e-40, df_denom=531, df_num=3>\n"
     ]
    }
   ],
   "source": [
    "print(mod.f_test('bedrooms=stories=bathrooms=0'))"
   ]
  },
  {
   "cell_type": "code",
   "execution_count": 746,
   "id": "bf19ddb7",
   "metadata": {},
   "outputs": [
    {
     "data": {
      "text/plain": [
       "2.621690060147453"
      ]
     },
     "execution_count": 746,
     "metadata": {},
     "output_type": "execute_result"
    }
   ],
   "source": [
    "f.ppf(q=1-0.05, dfn=3, dfd=mod.df_resid)"
   ]
  },
  {
   "cell_type": "markdown",
   "id": "ab18f535",
   "metadata": {},
   "source": [
    "**Вывод: коэффиценты совместно значимы**"
   ]
  },
  {
   "cell_type": "markdown",
   "id": "658947e8",
   "metadata": {},
   "source": [
    "###  Протестируем гипотезу о линейных ограничениях $H_0:\\beta_{area}+\\beta_{guestroom}+\\beta_{stories}=0.1$"
   ]
  },
  {
   "cell_type": "code",
   "execution_count": 747,
   "id": "03d6a274",
   "metadata": {},
   "outputs": [
    {
     "name": "stdout",
     "output_type": "stream",
     "text": [
      "<F test: F=33.37628208955597, p=1.2948739861668714e-08, df_denom=531, df_num=1>\n"
     ]
    }
   ],
   "source": [
    "print(mod.f_test('area+guestroom+stories=0'))"
   ]
  },
  {
   "cell_type": "code",
   "execution_count": 748,
   "id": "6a885d82",
   "metadata": {},
   "outputs": [
    {
     "data": {
      "text/plain": [
       "3.8590306661560283"
      ]
     },
     "execution_count": 748,
     "metadata": {},
     "output_type": "execute_result"
    }
   ],
   "source": [
    "# критическое значение\n",
    "f.ppf(q=1-0.05, dfn=1, dfd=mod.df_resid)"
   ]
  },
  {
   "cell_type": "markdown",
   "id": "3df9849f",
   "metadata": {},
   "source": [
    "Вывод: гипотеза отвергается"
   ]
  },
  {
   "cell_type": "markdown",
   "id": "9ad0c620",
   "metadata": {},
   "source": [
    "###  Стрктурные сдвиги"
   ]
  },
  {
   "cell_type": "markdown",
   "id": "f5384dba",
   "metadata": {},
   "source": [
    "Рассмотрим нашу регресси отдельно для домов с отоплением $(\\beta)$  и без $(\\gamma)$\n",
    "\n",
    "Будем тестировать $H_0:\\beta_j=\\gamma_j$\n",
    "\n",
    "Уровеь значимости 1%"
   ]
  },
  {
   "cell_type": "code",
   "execution_count": 749,
   "id": "3ce5e4b7",
   "metadata": {},
   "outputs": [
    {
     "data": {
      "text/html": [
       "<table class=\"simpletable\">\n",
       "<tr>\n",
       "         <td></td>           <th>heat</th>      <th>notheat</th>     <th>Общая</th>  \n",
       "</tr>\n",
       "<tr>\n",
       "  <th>Intercept</th>       <td>6.0260***</td> <td>10.7617***</td> <td>10.7413***</td>\n",
       "</tr>\n",
       "<tr>\n",
       "  <th></th>                <td>(0.1074)</td>   <td>(0.0356)</td>   <td>(0.0350)</td> \n",
       "</tr>\n",
       "<tr>\n",
       "  <th>area</th>             <td>0.0000</td>    <td>0.0000***</td>  <td>0.0000***</td>\n",
       "</tr>\n",
       "<tr>\n",
       "  <th></th>                <td>(0.0000)</td>   <td>(0.0000)</td>   <td>(0.0000)</td> \n",
       "</tr>\n",
       "<tr>\n",
       "  <th>bedrooms</th>        <td>0.2635***</td>   <td>0.0226</td>    <td>0.0295**</td> \n",
       "</tr>\n",
       "<tr>\n",
       "  <th></th>                <td>(0.0856)</td>   <td>(0.0142)</td>   <td>(0.0141)</td> \n",
       "</tr>\n",
       "<tr>\n",
       "  <th>bathrooms</th>        <td>0.0224</td>    <td>0.1620***</td>  <td>0.1632***</td>\n",
       "</tr>\n",
       "<tr>\n",
       "  <th></th>                <td>(0.1328)</td>   <td>(0.0202)</td>   <td>(0.0200)</td> \n",
       "</tr>\n",
       "<tr>\n",
       "  <th>stories</th>          <td>-0.0238</td>   <td>0.0917***</td>  <td>0.0901***</td>\n",
       "</tr>\n",
       "<tr>\n",
       "  <th></th>                <td>(0.1024)</td>   <td>(0.0124)</td>   <td>(0.0124)</td> \n",
       "</tr>\n",
       "<tr>\n",
       "  <th>mainroad</th>         <td>0.3900*</td>   <td>0.1091***</td>  <td>0.1175***</td>\n",
       "</tr>\n",
       "<tr>\n",
       "  <th></th>                <td>(0.1808)</td>   <td>(0.0278)</td>   <td>(0.0275)</td> \n",
       "</tr>\n",
       "<tr>\n",
       "  <th>guestroom</th>        <td>-0.0448</td>   <td>0.0757***</td>  <td>0.0698***</td>\n",
       "</tr>\n",
       "<tr>\n",
       "  <th></th>                <td>(0.1707)</td>   <td>(0.0257)</td>   <td>(0.0255)</td> \n",
       "</tr>\n",
       "<tr>\n",
       "  <th>basement</th>        <td>0.3302**</td>   <td>0.0794***</td>  <td>0.0893***</td>\n",
       "</tr>\n",
       "<tr>\n",
       "  <th></th>                <td>(0.1132)</td>   <td>(0.0217)</td>   <td>(0.0213)</td> \n",
       "</tr>\n",
       "<tr>\n",
       "  <th>hotwaterheating</th> <td>6.0260***</td> <td>-0.0000***</td>  <td>0.1634***</td>\n",
       "</tr>\n",
       "<tr>\n",
       "  <th></th>                <td>(0.1074)</td>   <td>(0.0000)</td>   <td>(0.0432)</td> \n",
       "</tr>\n",
       "<tr>\n",
       "  <th>airconditioning</th>  <td>-0.4992</td>   <td>0.1821***</td>  <td>0.1748***</td>\n",
       "</tr>\n",
       "<tr>\n",
       "  <th></th>                <td>(0.2895)</td>   <td>(0.0208)</td>   <td>(0.0210)</td> \n",
       "</tr>\n",
       "<tr>\n",
       "  <th>parking</th>          <td>0.0844</td>    <td>0.0408***</td>  <td>0.0448***</td>\n",
       "</tr>\n",
       "<tr>\n",
       "  <th></th>                <td>(0.0675)</td>   <td>(0.0114)</td>   <td>(0.0113)</td> \n",
       "</tr>\n",
       "<tr>\n",
       "  <th>prefarea</th>         <td>0.3765*</td>   <td>0.1345***</td>  <td>0.1268***</td>\n",
       "</tr>\n",
       "<tr>\n",
       "  <th></th>                <td>(0.1826)</td>   <td>(0.0225)</td>   <td>(0.0224)</td> \n",
       "</tr>\n",
       "<tr>\n",
       "  <th>furnished</th>       <td>2.1673***</td>  <td>3.6146***</td>  <td>3.6111***</td>\n",
       "</tr>\n",
       "<tr>\n",
       "  <th></th>                <td>(0.0977)</td>   <td>(0.0201)</td>   <td>(0.0198)</td> \n",
       "</tr>\n",
       "<tr>\n",
       "  <th>semi</th>            <td>2.0350***</td>  <td>3.6394***</td>  <td>3.6291***</td>\n",
       "</tr>\n",
       "<tr>\n",
       "  <th></th>                <td>(0.0735)</td>   <td>(0.0172)</td>   <td>(0.0168)</td> \n",
       "</tr>\n",
       "<tr>\n",
       "  <th>unfurnished</th>     <td>1.8236***</td>  <td>3.5077***</td>  <td>3.5012***</td>\n",
       "</tr>\n",
       "<tr>\n",
       "  <th></th>                <td>(0.1065)</td>   <td>(0.0159)</td>   <td>(0.0159)</td> \n",
       "</tr>\n",
       "<tr>\n",
       "  <th>R-squared</th>        <td>0.8716</td>     <td>0.7034</td>     <td>0.6990</td>  \n",
       "</tr>\n",
       "<tr>\n",
       "  <th>R-squared Adj.</th>   <td>0.7432</td>     <td>0.6964</td>     <td>0.6916</td>  \n",
       "</tr>\n",
       "<tr>\n",
       "  <th>N</th>                <td>25.0000</td>   <td>520.0000</td>   <td>545.0000</td> \n",
       "</tr>\n",
       "<tr>\n",
       "  <th>F-stat</th>           <td>6.7873</td>    <td>100.1892</td>    <td>94.8392</td> \n",
       "</tr>\n",
       "</table>"
      ],
      "text/plain": [
       "<class 'statsmodels.iolib.summary2.Summary'>\n",
       "\"\"\"\n",
       "\n",
       "===============================================\n",
       "                   heat    notheat     Общая   \n",
       "-----------------------------------------------\n",
       "Intercept       6.0260*** 10.7617*** 10.7413***\n",
       "                (0.1074)  (0.0356)   (0.0350)  \n",
       "area            0.0000    0.0000***  0.0000*** \n",
       "                (0.0000)  (0.0000)   (0.0000)  \n",
       "bedrooms        0.2635*** 0.0226     0.0295**  \n",
       "                (0.0856)  (0.0142)   (0.0141)  \n",
       "bathrooms       0.0224    0.1620***  0.1632*** \n",
       "                (0.1328)  (0.0202)   (0.0200)  \n",
       "stories         -0.0238   0.0917***  0.0901*** \n",
       "                (0.1024)  (0.0124)   (0.0124)  \n",
       "mainroad        0.3900*   0.1091***  0.1175*** \n",
       "                (0.1808)  (0.0278)   (0.0275)  \n",
       "guestroom       -0.0448   0.0757***  0.0698*** \n",
       "                (0.1707)  (0.0257)   (0.0255)  \n",
       "basement        0.3302**  0.0794***  0.0893*** \n",
       "                (0.1132)  (0.0217)   (0.0213)  \n",
       "hotwaterheating 6.0260*** -0.0000*** 0.1634*** \n",
       "                (0.1074)  (0.0000)   (0.0432)  \n",
       "airconditioning -0.4992   0.1821***  0.1748*** \n",
       "                (0.2895)  (0.0208)   (0.0210)  \n",
       "parking         0.0844    0.0408***  0.0448*** \n",
       "                (0.0675)  (0.0114)   (0.0113)  \n",
       "prefarea        0.3765*   0.1345***  0.1268*** \n",
       "                (0.1826)  (0.0225)   (0.0224)  \n",
       "furnished       2.1673*** 3.6146***  3.6111*** \n",
       "                (0.0977)  (0.0201)   (0.0198)  \n",
       "semi            2.0350*** 3.6394***  3.6291*** \n",
       "                (0.0735)  (0.0172)   (0.0168)  \n",
       "unfurnished     1.8236*** 3.5077***  3.5012*** \n",
       "                (0.1065)  (0.0159)   (0.0159)  \n",
       "R-squared       0.8716    0.7034     0.6990    \n",
       "R-squared Adj.  0.7432    0.6964     0.6916    \n",
       "N               25.0000   520.0000   545.0000  \n",
       "F-stat          6.7873    100.1892   94.8392   \n",
       "===============================================\n",
       "Standard errors in parentheses.\n",
       "* p<.1, ** p<.05, ***p<.01\n",
       "\"\"\""
      ]
     },
     "execution_count": 749,
     "metadata": {},
     "output_type": "execute_result"
    }
   ],
   "source": [
    "specification = 'np.log(price)~area+bedrooms+bathrooms+stories+mainroad+guestroom+basement+hotwaterheating+airconditioning+parking+prefarea++furnished+semi+unfurnished'\n",
    "# подгонка по полному датасету\n",
    "mod_overall = smf.ols(formula=specification, data=df).fit()\n",
    "# подгонка только по М\n",
    "mod_heat_only = smf.ols(formula=specification, data=df[df['hotwaterheating']==1]).fit()\n",
    "# подгонка только по Ж\n",
    "mod_notheat_only = smf.ols(formula=specification, data=df[df['hotwaterheating']==0 ]).fit()\n",
    "# Вывод трёх регрессий в одной таблице\n",
    "summary_col(results=[mod_heat_only, mod_notheat_only, mod_overall], stars=True, model_names=['heat', 'notheat', 'Общая'],\n",
    "           info_dict={'N': lambda x: x.nobs, 'F-stat': lambda x: x.fvalue})"
   ]
  },
  {
   "cell_type": "code",
   "execution_count": 750,
   "id": "6f267b73",
   "metadata": {},
   "outputs": [
    {
     "name": "stdout",
     "output_type": "stream",
     "text": [
      "RSS (overall)= 22.682382639979227\n",
      "RSS (heat_only)= 0.4862907148201128\n",
      "RSS (notheat_only)= 21.049319422880725\n",
      "n= 545.0\n",
      "k= 13.0\n"
     ]
    }
   ],
   "source": [
    "# Ингредиенты тестовой статистики\n",
    "print('RSS (overall)=', mod_overall.ssr)\n",
    "print('RSS (heat_only)=', mod_heat_only.ssr)\n",
    "print('RSS (notheat_only)=', mod_notheat_only.ssr)\n",
    "print('n=', mod_overall.nobs)\n",
    "print('k=', mod_overall.df_model)"
   ]
  },
  {
   "cell_type": "code",
   "execution_count": 751,
   "id": "50d5f5d8",
   "metadata": {},
   "outputs": [
    {
     "data": {
      "text/plain": [
       "(1.966, 2.116)"
      ]
     },
     "execution_count": 751,
     "metadata": {},
     "output_type": "execute_result"
    }
   ],
   "source": [
    "F = (mod_overall.ssr-mod_heat_only.ssr-mod_notheat_only.ssr)/(mod_heat_only.ssr+mod_notheat_only.ssr)*(mod_overall.nobs-2*(mod_overall.df_model+1))/(mod_overall.df_model+1)\n",
    "F_cr = f.ppf(q=1-0.01, dfn=mod_overall.df_model+1, dfd=mod_overall.nobs-2*(mod_overall.df_model+1))\n",
    "F.round(3), F_cr.round(3)"
   ]
  },
  {
   "cell_type": "markdown",
   "id": "da11b308",
   "metadata": {},
   "source": [
    "**Вывод: струтурные сдвиги незначимы**"
   ]
  },
  {
   "cell_type": "markdown",
   "id": "e96c4a9a",
   "metadata": {},
   "source": [
    "Грифики"
   ]
  },
  {
   "cell_type": "code",
   "execution_count": 752,
   "id": "9435f658",
   "metadata": {},
   "outputs": [
    {
     "data": {
      "text/plain": [
       "<seaborn.axisgrid.FacetGrid at 0x7fc653875cd0>"
      ]
     },
     "execution_count": 752,
     "metadata": {},
     "output_type": "execute_result"
    },
    {
     "data": {
      "image/png": "[encoded data removed]",
      "text/plain": [
       "<Figure size 626.236x500 with 1 Axes>"
      ]
     },
     "metadata": {},
     "output_type": "display_data"
    }
   ],
   "source": [
    "sns.lmplot(data=df, x='area', y='price', hue='hotwaterheating', ci=False, markers='.')"
   ]
  },
  {
   "cell_type": "code",
   "execution_count": 753,
   "id": "f6f75741",
   "metadata": {},
   "outputs": [
    {
     "data": {
      "text/plain": [
       "<seaborn.axisgrid.FacetGrid at 0x7fc653875730>"
      ]
     },
     "execution_count": 753,
     "metadata": {},
     "output_type": "execute_result"
    },
    {
     "data": {
      "image/png": "[encoded data removed]",
      "text/plain": [
       "<Figure size 626.236x500 with 1 Axes>"
      ]
     },
     "metadata": {},
     "output_type": "display_data"
    }
   ],
   "source": [
    "sns.lmplot(data=df, x='bedrooms', y='price', hue='hotwaterheating', ci=False, markers='.')"
   ]
  },
  {
   "cell_type": "markdown",
   "id": "d4a1a767",
   "metadata": {},
   "source": [
    "###  Прогнозирование для модели регрессии"
   ]
  },
  {
   "cell_type": "markdown",
   "id": "85088630",
   "metadata": {},
   "source": [
    "Рассморим 10 человек"
   ]
  },
  {
   "cell_type": "code",
   "execution_count": 754,
   "id": "10d51b4a",
   "metadata": {},
   "outputs": [
    {
     "data": {
      "text/html": [
       "<div>\n",
       "<style scoped>\n",
       "    .dataframe tbody tr th:only-of-type {\n",
       "        vertical-align: middle;\n",
       "    }\n",
       "\n",
       "    .dataframe tbody tr th {\n",
       "        vertical-align: top;\n",
       "    }\n",
       "\n",
       "    .dataframe thead th {\n",
       "        text-align: right;\n",
       "    }\n",
       "</style>\n",
       "<table border=\"1\" class=\"dataframe\">\n",
       "  <thead>\n",
       "    <tr style=\"text-align: right;\">\n",
       "      <th></th>\n",
       "      <th>area</th>\n",
       "      <th>bedrooms</th>\n",
       "      <th>bathrooms</th>\n",
       "      <th>stories</th>\n",
       "      <th>mainroad</th>\n",
       "      <th>guestroom</th>\n",
       "      <th>basement</th>\n",
       "      <th>hotwaterheating</th>\n",
       "      <th>airconditioning</th>\n",
       "      <th>parking</th>\n",
       "      <th>prefarea</th>\n",
       "      <th>furnished</th>\n",
       "      <th>semi</th>\n",
       "      <th>unfurnished</th>\n",
       "    </tr>\n",
       "  </thead>\n",
       "  <tbody>\n",
       "    <tr>\n",
       "      <th>440</th>\n",
       "      <td>3640</td>\n",
       "      <td>4</td>\n",
       "      <td>1</td>\n",
       "      <td>2</td>\n",
       "      <td>1</td>\n",
       "      <td>0</td>\n",
       "      <td>1</td>\n",
       "      <td>0</td>\n",
       "      <td>0</td>\n",
       "      <td>0</td>\n",
       "      <td>0</td>\n",
       "      <td>0</td>\n",
       "      <td>0</td>\n",
       "      <td>1</td>\n",
       "    </tr>\n",
       "    <tr>\n",
       "      <th>176</th>\n",
       "      <td>8520</td>\n",
       "      <td>3</td>\n",
       "      <td>1</td>\n",
       "      <td>1</td>\n",
       "      <td>1</td>\n",
       "      <td>0</td>\n",
       "      <td>0</td>\n",
       "      <td>0</td>\n",
       "      <td>1</td>\n",
       "      <td>2</td>\n",
       "      <td>0</td>\n",
       "      <td>1</td>\n",
       "      <td>0</td>\n",
       "      <td>0</td>\n",
       "    </tr>\n",
       "    <tr>\n",
       "      <th>458</th>\n",
       "      <td>3850</td>\n",
       "      <td>3</td>\n",
       "      <td>1</td>\n",
       "      <td>2</td>\n",
       "      <td>1</td>\n",
       "      <td>0</td>\n",
       "      <td>0</td>\n",
       "      <td>0</td>\n",
       "      <td>0</td>\n",
       "      <td>0</td>\n",
       "      <td>0</td>\n",
       "      <td>0</td>\n",
       "      <td>0</td>\n",
       "      <td>1</td>\n",
       "    </tr>\n",
       "    <tr>\n",
       "      <th>164</th>\n",
       "      <td>6710</td>\n",
       "      <td>3</td>\n",
       "      <td>2</td>\n",
       "      <td>2</td>\n",
       "      <td>1</td>\n",
       "      <td>1</td>\n",
       "      <td>1</td>\n",
       "      <td>0</td>\n",
       "      <td>0</td>\n",
       "      <td>1</td>\n",
       "      <td>1</td>\n",
       "      <td>1</td>\n",
       "      <td>0</td>\n",
       "      <td>0</td>\n",
       "    </tr>\n",
       "    <tr>\n",
       "      <th>57</th>\n",
       "      <td>9000</td>\n",
       "      <td>4</td>\n",
       "      <td>2</td>\n",
       "      <td>4</td>\n",
       "      <td>1</td>\n",
       "      <td>1</td>\n",
       "      <td>0</td>\n",
       "      <td>0</td>\n",
       "      <td>1</td>\n",
       "      <td>1</td>\n",
       "      <td>1</td>\n",
       "      <td>1</td>\n",
       "      <td>0</td>\n",
       "      <td>0</td>\n",
       "    </tr>\n",
       "    <tr>\n",
       "      <th>15</th>\n",
       "      <td>6000</td>\n",
       "      <td>4</td>\n",
       "      <td>1</td>\n",
       "      <td>2</td>\n",
       "      <td>1</td>\n",
       "      <td>0</td>\n",
       "      <td>1</td>\n",
       "      <td>0</td>\n",
       "      <td>0</td>\n",
       "      <td>2</td>\n",
       "      <td>0</td>\n",
       "      <td>0</td>\n",
       "      <td>1</td>\n",
       "      <td>0</td>\n",
       "    </tr>\n",
       "    <tr>\n",
       "      <th>114</th>\n",
       "      <td>6800</td>\n",
       "      <td>2</td>\n",
       "      <td>1</td>\n",
       "      <td>1</td>\n",
       "      <td>1</td>\n",
       "      <td>1</td>\n",
       "      <td>1</td>\n",
       "      <td>0</td>\n",
       "      <td>0</td>\n",
       "      <td>2</td>\n",
       "      <td>0</td>\n",
       "      <td>1</td>\n",
       "      <td>0</td>\n",
       "      <td>0</td>\n",
       "    </tr>\n",
       "  </tbody>\n",
       "</table>\n",
       "</div>"
      ],
      "text/plain": [
       "     area  bedrooms  bathrooms  stories  mainroad  guestroom  basement  \\\n",
       "440  3640         4          1        2         1          0         1   \n",
       "176  8520         3          1        1         1          0         0   \n",
       "458  3850         3          1        2         1          0         0   \n",
       "164  6710         3          2        2         1          1         1   \n",
       "57   9000         4          2        4         1          1         0   \n",
       "15   6000         4          1        2         1          0         1   \n",
       "114  6800         2          1        1         1          1         1   \n",
       "\n",
       "     hotwaterheating  airconditioning  parking  prefarea  furnished  semi  \\\n",
       "440                0                0        0         0          0     0   \n",
       "176                0                1        2         0          1     0   \n",
       "458                0                0        0         0          0     0   \n",
       "164                0                0        1         1          1     0   \n",
       "57                 0                1        1         1          1     0   \n",
       "15                 0                0        2         0          0     1   \n",
       "114                0                0        2         0          1     0   \n",
       "\n",
       "     unfurnished  \n",
       "440            1  \n",
       "176            0  \n",
       "458            1  \n",
       "164            0  \n",
       "57             0  \n",
       "15             0  \n",
       "114            0  "
      ]
     },
     "execution_count": 754,
     "metadata": {},
     "output_type": "execute_result"
    }
   ],
   "source": [
    "new_df = df.sample(7)\n",
    "new_df = new_df.drop(labels={'furnishingstatus', 'price'}, axis=1)\n",
    "new_df"
   ]
  },
  {
   "cell_type": "code",
   "execution_count": 755,
   "id": "d0f5d82f",
   "metadata": {},
   "outputs": [
    {
     "data": {
      "text/plain": [
       "440    3.579541e+06\n",
       "176    5.376806e+06\n",
       "458    3.211837e+06\n",
       "164    6.767471e+06\n",
       "57     1.018267e+07\n",
       "15     5.000106e+06\n",
       "114    4.719939e+06\n",
       "dtype: float64"
      ]
     },
     "execution_count": 755,
     "metadata": {},
     "output_type": "execute_result"
    }
   ],
   "source": [
    "np.exp(mod.predict(exog=new_df, transform=True))"
   ]
  },
  {
   "cell_type": "markdown",
   "id": "7484f844",
   "metadata": {},
   "source": [
    "Непосредственное вычисление $\\hat{\\beta}_0+\\hat{\\beta}_1x_1+\\cdots+\\hat{\\beta}_kx_k$ для каждого наблюдения.\n",
    "\n",
    "В матричном виде $X\\hat{\\beta}$, где $X$ состоит из значений переменных по столбцам + первый столбец из единиц для учёта $\\beta_0$"
   ]
  },
  {
   "cell_type": "markdown",
   "id": "711bd03f",
   "metadata": {},
   "source": [
    "###  Мультиколлинеарность"
   ]
  },
  {
   "cell_type": "markdown",
   "id": "122caa9d",
   "metadata": {},
   "source": [
    "Какие регрессии нужно рассматривать для вычисления показателей VIF для коэффициентов hotwaterheating, airconditioning, mainroad?\n",
    "\n",
    "\n",
    "Ответ:\n",
    "\n",
    "\n",
    "**hotwaterheating~area+bedrooms+bathrooms+stories+mainroad+guestroom+basement+airconditioning+parking+prefarea++furnished+semi+unfurnished**\n",
    "\n",
    "\n",
    "**airconditioning~area+bedrooms+bathrooms+stories+mainroad+guestroom+basement+hotwaterheating+parking+prefarea++furnished+semi+unfurnished**\n",
    "\n",
    "\n",
    "**mainroad~area+bedrooms+bathrooms+stories+parking+guestroom+basement+hotwaterheating+airconditioning+parking+prefarea++furnished+semi+unfurnished**"
   ]
  },
  {
   "cell_type": "code",
   "execution_count": 756,
   "id": "31bfb726",
   "metadata": {},
   "outputs": [
    {
     "name": "stdout",
     "output_type": "stream",
     "text": [
      "\n",
      "=========================================================\n",
      "                hotwaterheating airconditioning  mainroad\n",
      "---------------------------------------------------------\n",
      "Intercept       0.001           -0.121*         0.547*** \n",
      "                (0.035)         (0.072)         (0.050)  \n",
      "R-squared       0.040           0.175           0.147    \n",
      "R-squared Adj.  0.018           0.156           0.128    \n",
      "airconditioning -0.073***                       -0.009   \n",
      "                (0.021)                         (0.033)  \n",
      "area            -0.000          0.000***        0.000*** \n",
      "                (0.000)         (0.000)         (0.000)  \n",
      "basement        0.006           0.040           0.017    \n",
      "                (0.021)         (0.044)         (0.034)  \n",
      "bathrooms       0.026           0.045           -0.033   \n",
      "                (0.020)         (0.041)         (0.031)  \n",
      "bedrooms        0.006           -0.007          -0.063***\n",
      "                (0.014)         (0.029)         (0.022)  \n",
      "furnished       0.002           0.022           0.220*** \n",
      "                (0.020)         (0.041)         (0.030)  \n",
      "guestroom       0.000           0.086           0.027    \n",
      "                (0.026)         (0.053)         (0.040)  \n",
      "hotwaterheating                 -0.309***       -0.015   \n",
      "                                (0.088)         (0.068)  \n",
      "mainroad        -0.006          -0.016                   \n",
      "                (0.028)         (0.057)                  \n",
      "parking         0.020*          0.047**         0.049*** \n",
      "                (0.011)         (0.023)         (0.018)  \n",
      "prefarea        -0.028          0.032           0.104*** \n",
      "                (0.022)         (0.046)         (0.035)  \n",
      "semi            0.013           -0.076**        0.186*** \n",
      "                (0.017)         (0.035)         (0.025)  \n",
      "stories         0.009           0.142***        0.064*** \n",
      "                (0.012)         (0.025)         (0.019)  \n",
      "unfurnished     -0.014          -0.067**        0.141*** \n",
      "                (0.016)         (0.033)         (0.024)  \n",
      "=========================================================\n",
      "Standard errors in parentheses.\n",
      "* p<.1, ** p<.05, ***p<.01\n"
     ]
    }
   ],
   "source": [
    "mod1 = smf.ols(formula='hotwaterheating~area+bedrooms+bathrooms+stories+mainroad+guestroom+basement+airconditioning+parking+prefarea++furnished+semi+unfurnished', data=df).fit()\n",
    "mod2 = smf.ols(formula='airconditioning~area+bedrooms+bathrooms+stories+mainroad+guestroom+basement+hotwaterheating+parking+prefarea++furnished+semi+unfurnished', data=df).fit()\n",
    "mod3 = smf.ols(formula='mainroad~area+bedrooms+bathrooms+stories+parking+guestroom+basement+hotwaterheating+airconditioning+parking+prefarea++furnished+semi+unfurnished', data=df).fit()\n",
    "#Результаты подгонки\n",
    "# info_dict = {'No. Observations': lambda x: '{0:d}'.format(int(x.nobs)), \n",
    "#              'R-squared': lambda x: \"%#8.3f\" % x.rsquared,\n",
    "#              'Adj. R-squared': lambda x: \"%#8.3f\" % x.rsquared_adj,\n",
    "#              'Residual Std. Error': lambda x: \"%#8.3f\" % x.mse_resid**0.5,\n",
    "#              'F-statistic': lambda x: '{:.3f}'.format(x.fvalue), \n",
    "#              'Prob (F-statistic)': lambda x: '{:.3f}'.format(x.f_pvalue)\n",
    "#              }\n",
    "\n",
    "print(summary_col([mod1, mod2, mod3], stars=True, float_format='%.3f'))"
   ]
  },
  {
   "cell_type": "code",
   "execution_count": 757,
   "id": "20d36445",
   "metadata": {},
   "outputs": [
    {
     "data": {
      "text/plain": [
       "1.04"
      ]
     },
     "execution_count": 757,
     "metadata": {},
     "output_type": "execute_result"
    }
   ],
   "source": [
    "VIF_1 = 1/(1 - mod1.rsquared)\n",
    "VIF_1.round(2)"
   ]
  },
  {
   "cell_type": "code",
   "execution_count": 758,
   "id": "71b519d1",
   "metadata": {},
   "outputs": [
    {
     "data": {
      "text/plain": [
       "1.21"
      ]
     },
     "execution_count": 758,
     "metadata": {},
     "output_type": "execute_result"
    }
   ],
   "source": [
    "VIF_2 = 1/(1 - mod2.rsquared)\n",
    "VIF_2.round(2)"
   ]
  },
  {
   "cell_type": "code",
   "execution_count": 759,
   "id": "6b7fa54f",
   "metadata": {},
   "outputs": [
    {
     "data": {
      "text/plain": [
       "1.17"
      ]
     },
     "execution_count": 759,
     "metadata": {},
     "output_type": "execute_result"
    }
   ],
   "source": [
    "VIF_1 = 1/(1 - mod3.rsquared)\n",
    "VIF_1.round(2)"
   ]
  },
  {
   "cell_type": "markdown",
   "id": "84e85c09",
   "metadata": {},
   "source": [
    "Корреляции между регрессорами"
   ]
  },
  {
   "cell_type": "code",
   "execution_count": 760,
   "id": "a8f631b6",
   "metadata": {},
   "outputs": [
    {
     "data": {
      "text/html": [
       "<div>\n",
       "<style scoped>\n",
       "    .dataframe tbody tr th:only-of-type {\n",
       "        vertical-align: middle;\n",
       "    }\n",
       "\n",
       "    .dataframe tbody tr th {\n",
       "        vertical-align: top;\n",
       "    }\n",
       "\n",
       "    .dataframe thead th {\n",
       "        text-align: right;\n",
       "    }\n",
       "</style>\n",
       "<table border=\"1\" class=\"dataframe\">\n",
       "  <thead>\n",
       "    <tr style=\"text-align: right;\">\n",
       "      <th></th>\n",
       "      <th>Coef.</th>\n",
       "      <th>Std.Err.</th>\n",
       "      <th>t</th>\n",
       "      <th>P&gt;|t|</th>\n",
       "      <th>[0.025</th>\n",
       "      <th>0.975]</th>\n",
       "    </tr>\n",
       "  </thead>\n",
       "  <tbody>\n",
       "    <tr>\n",
       "      <th>Intercept</th>\n",
       "      <td>10.741298</td>\n",
       "      <td>0.035049</td>\n",
       "      <td>306.466449</td>\n",
       "      <td>0.000000e+00</td>\n",
       "      <td>10.672447</td>\n",
       "      <td>10.810150</td>\n",
       "    </tr>\n",
       "    <tr>\n",
       "      <th>area</th>\n",
       "      <td>0.000049</td>\n",
       "      <td>0.000005</td>\n",
       "      <td>10.528162</td>\n",
       "      <td>1.140566e-23</td>\n",
       "      <td>0.000040</td>\n",
       "      <td>0.000059</td>\n",
       "    </tr>\n",
       "    <tr>\n",
       "      <th>bedrooms</th>\n",
       "      <td>0.029472</td>\n",
       "      <td>0.014050</td>\n",
       "      <td>2.097613</td>\n",
       "      <td>3.641145e-02</td>\n",
       "      <td>0.001871</td>\n",
       "      <td>0.057072</td>\n",
       "    </tr>\n",
       "    <tr>\n",
       "      <th>bathrooms</th>\n",
       "      <td>0.163204</td>\n",
       "      <td>0.020004</td>\n",
       "      <td>8.158653</td>\n",
       "      <td>2.466559e-15</td>\n",
       "      <td>0.123908</td>\n",
       "      <td>0.202501</td>\n",
       "    </tr>\n",
       "    <tr>\n",
       "      <th>stories</th>\n",
       "      <td>0.090131</td>\n",
       "      <td>0.012419</td>\n",
       "      <td>7.257701</td>\n",
       "      <td>1.405848e-12</td>\n",
       "      <td>0.065736</td>\n",
       "      <td>0.114527</td>\n",
       "    </tr>\n",
       "    <tr>\n",
       "      <th>mainroad</th>\n",
       "      <td>0.117473</td>\n",
       "      <td>0.027525</td>\n",
       "      <td>4.267876</td>\n",
       "      <td>2.337385e-05</td>\n",
       "      <td>0.063402</td>\n",
       "      <td>0.171544</td>\n",
       "    </tr>\n",
       "    <tr>\n",
       "      <th>guestroom</th>\n",
       "      <td>0.069789</td>\n",
       "      <td>0.025490</td>\n",
       "      <td>2.737902</td>\n",
       "      <td>6.390736e-03</td>\n",
       "      <td>0.019716</td>\n",
       "      <td>0.119863</td>\n",
       "    </tr>\n",
       "    <tr>\n",
       "      <th>basement</th>\n",
       "      <td>0.089313</td>\n",
       "      <td>0.021343</td>\n",
       "      <td>4.184542</td>\n",
       "      <td>3.343698e-05</td>\n",
       "      <td>0.047385</td>\n",
       "      <td>0.131241</td>\n",
       "    </tr>\n",
       "    <tr>\n",
       "      <th>hotwaterheating</th>\n",
       "      <td>0.163424</td>\n",
       "      <td>0.043187</td>\n",
       "      <td>3.784095</td>\n",
       "      <td>1.718359e-04</td>\n",
       "      <td>0.078586</td>\n",
       "      <td>0.248263</td>\n",
       "    </tr>\n",
       "    <tr>\n",
       "      <th>airconditioning</th>\n",
       "      <td>0.174807</td>\n",
       "      <td>0.020970</td>\n",
       "      <td>8.336052</td>\n",
       "      <td>6.619422e-16</td>\n",
       "      <td>0.133613</td>\n",
       "      <td>0.216002</td>\n",
       "    </tr>\n",
       "    <tr>\n",
       "      <th>parking</th>\n",
       "      <td>0.044772</td>\n",
       "      <td>0.011327</td>\n",
       "      <td>3.952855</td>\n",
       "      <td>8.767551e-05</td>\n",
       "      <td>0.022522</td>\n",
       "      <td>0.067023</td>\n",
       "    </tr>\n",
       "    <tr>\n",
       "      <th>prefarea</th>\n",
       "      <td>0.126751</td>\n",
       "      <td>0.022388</td>\n",
       "      <td>5.661488</td>\n",
       "      <td>2.459355e-08</td>\n",
       "      <td>0.082770</td>\n",
       "      <td>0.170731</td>\n",
       "    </tr>\n",
       "    <tr>\n",
       "      <th>furnished</th>\n",
       "      <td>3.611082</td>\n",
       "      <td>0.019792</td>\n",
       "      <td>182.447097</td>\n",
       "      <td>0.000000e+00</td>\n",
       "      <td>3.572201</td>\n",
       "      <td>3.649963</td>\n",
       "    </tr>\n",
       "    <tr>\n",
       "      <th>semi</th>\n",
       "      <td>3.629051</td>\n",
       "      <td>0.016841</td>\n",
       "      <td>215.491829</td>\n",
       "      <td>0.000000e+00</td>\n",
       "      <td>3.595968</td>\n",
       "      <td>3.662133</td>\n",
       "    </tr>\n",
       "    <tr>\n",
       "      <th>unfurnished</th>\n",
       "      <td>3.501166</td>\n",
       "      <td>0.015859</td>\n",
       "      <td>220.774819</td>\n",
       "      <td>0.000000e+00</td>\n",
       "      <td>3.470013</td>\n",
       "      <td>3.532319</td>\n",
       "    </tr>\n",
       "  </tbody>\n",
       "</table>\n",
       "</div>"
      ],
      "text/plain": [
       "                     Coef.  Std.Err.           t         P>|t|     [0.025  \\\n",
       "Intercept        10.741298  0.035049  306.466449  0.000000e+00  10.672447   \n",
       "area              0.000049  0.000005   10.528162  1.140566e-23   0.000040   \n",
       "bedrooms          0.029472  0.014050    2.097613  3.641145e-02   0.001871   \n",
       "bathrooms         0.163204  0.020004    8.158653  2.466559e-15   0.123908   \n",
       "stories           0.090131  0.012419    7.257701  1.405848e-12   0.065736   \n",
       "mainroad          0.117473  0.027525    4.267876  2.337385e-05   0.063402   \n",
       "guestroom         0.069789  0.025490    2.737902  6.390736e-03   0.019716   \n",
       "basement          0.089313  0.021343    4.184542  3.343698e-05   0.047385   \n",
       "hotwaterheating   0.163424  0.043187    3.784095  1.718359e-04   0.078586   \n",
       "airconditioning   0.174807  0.020970    8.336052  6.619422e-16   0.133613   \n",
       "parking           0.044772  0.011327    3.952855  8.767551e-05   0.022522   \n",
       "prefarea          0.126751  0.022388    5.661488  2.459355e-08   0.082770   \n",
       "furnished         3.611082  0.019792  182.447097  0.000000e+00   3.572201   \n",
       "semi              3.629051  0.016841  215.491829  0.000000e+00   3.595968   \n",
       "unfurnished       3.501166  0.015859  220.774819  0.000000e+00   3.470013   \n",
       "\n",
       "                    0.975]  \n",
       "Intercept        10.810150  \n",
       "area              0.000059  \n",
       "bedrooms          0.057072  \n",
       "bathrooms         0.202501  \n",
       "stories           0.114527  \n",
       "mainroad          0.171544  \n",
       "guestroom         0.119863  \n",
       "basement          0.131241  \n",
       "hotwaterheating   0.248263  \n",
       "airconditioning   0.216002  \n",
       "parking           0.067023  \n",
       "prefarea          0.170731  \n",
       "furnished         3.649963  \n",
       "semi              3.662133  \n",
       "unfurnished       3.532319  "
      ]
     },
     "execution_count": 760,
     "metadata": {},
     "output_type": "execute_result"
    }
   ],
   "source": [
    "summary_params(mod)"
   ]
  },
  {
   "cell_type": "code",
   "execution_count": 761,
   "id": "b574bfa0",
   "metadata": {},
   "outputs": [
    {
     "data": {
      "text/html": [
       "<div>\n",
       "<style scoped>\n",
       "    .dataframe tbody tr th:only-of-type {\n",
       "        vertical-align: middle;\n",
       "    }\n",
       "\n",
       "    .dataframe tbody tr th {\n",
       "        vertical-align: top;\n",
       "    }\n",
       "\n",
       "    .dataframe thead th {\n",
       "        text-align: right;\n",
       "    }\n",
       "</style>\n",
       "<table border=\"1\" class=\"dataframe\">\n",
       "  <thead>\n",
       "    <tr style=\"text-align: right;\">\n",
       "      <th></th>\n",
       "      <th>Intercept</th>\n",
       "      <th>area</th>\n",
       "      <th>bedrooms</th>\n",
       "      <th>bathrooms</th>\n",
       "      <th>stories</th>\n",
       "      <th>mainroad</th>\n",
       "      <th>guestroom</th>\n",
       "      <th>basement</th>\n",
       "      <th>hotwaterheating</th>\n",
       "      <th>airconditioning</th>\n",
       "      <th>parking</th>\n",
       "      <th>prefarea</th>\n",
       "      <th>furnished</th>\n",
       "      <th>semi</th>\n",
       "      <th>unfurnished</th>\n",
       "    </tr>\n",
       "  </thead>\n",
       "  <tbody>\n",
       "    <tr>\n",
       "      <th>0</th>\n",
       "      <td>1.0</td>\n",
       "      <td>7420.0</td>\n",
       "      <td>4.0</td>\n",
       "      <td>2.0</td>\n",
       "      <td>3.0</td>\n",
       "      <td>1.0</td>\n",
       "      <td>0.0</td>\n",
       "      <td>0.0</td>\n",
       "      <td>0.0</td>\n",
       "      <td>1.0</td>\n",
       "      <td>2.0</td>\n",
       "      <td>1.0</td>\n",
       "      <td>1.0</td>\n",
       "      <td>0.0</td>\n",
       "      <td>0.0</td>\n",
       "    </tr>\n",
       "    <tr>\n",
       "      <th>1</th>\n",
       "      <td>1.0</td>\n",
       "      <td>8960.0</td>\n",
       "      <td>4.0</td>\n",
       "      <td>4.0</td>\n",
       "      <td>4.0</td>\n",
       "      <td>1.0</td>\n",
       "      <td>0.0</td>\n",
       "      <td>0.0</td>\n",
       "      <td>0.0</td>\n",
       "      <td>1.0</td>\n",
       "      <td>3.0</td>\n",
       "      <td>0.0</td>\n",
       "      <td>1.0</td>\n",
       "      <td>0.0</td>\n",
       "      <td>0.0</td>\n",
       "    </tr>\n",
       "    <tr>\n",
       "      <th>2</th>\n",
       "      <td>1.0</td>\n",
       "      <td>9960.0</td>\n",
       "      <td>3.0</td>\n",
       "      <td>2.0</td>\n",
       "      <td>2.0</td>\n",
       "      <td>1.0</td>\n",
       "      <td>0.0</td>\n",
       "      <td>1.0</td>\n",
       "      <td>0.0</td>\n",
       "      <td>0.0</td>\n",
       "      <td>2.0</td>\n",
       "      <td>1.0</td>\n",
       "      <td>0.0</td>\n",
       "      <td>1.0</td>\n",
       "      <td>0.0</td>\n",
       "    </tr>\n",
       "    <tr>\n",
       "      <th>3</th>\n",
       "      <td>1.0</td>\n",
       "      <td>7500.0</td>\n",
       "      <td>4.0</td>\n",
       "      <td>2.0</td>\n",
       "      <td>2.0</td>\n",
       "      <td>1.0</td>\n",
       "      <td>0.0</td>\n",
       "      <td>1.0</td>\n",
       "      <td>0.0</td>\n",
       "      <td>1.0</td>\n",
       "      <td>3.0</td>\n",
       "      <td>1.0</td>\n",
       "      <td>1.0</td>\n",
       "      <td>0.0</td>\n",
       "      <td>0.0</td>\n",
       "    </tr>\n",
       "    <tr>\n",
       "      <th>4</th>\n",
       "      <td>1.0</td>\n",
       "      <td>7420.0</td>\n",
       "      <td>4.0</td>\n",
       "      <td>1.0</td>\n",
       "      <td>2.0</td>\n",
       "      <td>1.0</td>\n",
       "      <td>1.0</td>\n",
       "      <td>1.0</td>\n",
       "      <td>0.0</td>\n",
       "      <td>1.0</td>\n",
       "      <td>2.0</td>\n",
       "      <td>0.0</td>\n",
       "      <td>1.0</td>\n",
       "      <td>0.0</td>\n",
       "      <td>0.0</td>\n",
       "    </tr>\n",
       "  </tbody>\n",
       "</table>\n",
       "</div>"
      ],
      "text/plain": [
       "   Intercept    area  bedrooms  bathrooms  stories  mainroad  guestroom  \\\n",
       "0        1.0  7420.0       4.0        2.0      3.0       1.0        0.0   \n",
       "1        1.0  8960.0       4.0        4.0      4.0       1.0        0.0   \n",
       "2        1.0  9960.0       3.0        2.0      2.0       1.0        0.0   \n",
       "3        1.0  7500.0       4.0        2.0      2.0       1.0        0.0   \n",
       "4        1.0  7420.0       4.0        1.0      2.0       1.0        1.0   \n",
       "\n",
       "   basement  hotwaterheating  airconditioning  parking  prefarea  furnished  \\\n",
       "0       0.0              0.0              1.0      2.0       1.0        1.0   \n",
       "1       0.0              0.0              1.0      3.0       0.0        1.0   \n",
       "2       1.0              0.0              0.0      2.0       1.0        0.0   \n",
       "3       1.0              0.0              1.0      3.0       1.0        1.0   \n",
       "4       1.0              0.0              1.0      2.0       0.0        1.0   \n",
       "\n",
       "   semi  unfurnished  \n",
       "0   0.0          0.0  \n",
       "1   0.0          0.0  \n",
       "2   1.0          0.0  \n",
       "3   0.0          0.0  \n",
       "4   0.0          0.0  "
      ]
     },
     "execution_count": 761,
     "metadata": {},
     "output_type": "execute_result"
    }
   ],
   "source": [
    "# Матрицы регрессионного дизайна\n",
    "y, X = patsy.dmatrices(specification, df, return_type='dataframe')\n",
    "X.head()"
   ]
  },
  {
   "cell_type": "code",
   "execution_count": 762,
   "id": "c6691bc9",
   "metadata": {},
   "outputs": [
    {
     "data": {
      "text/html": [
       "<div>\n",
       "<style scoped>\n",
       "    .dataframe tbody tr th:only-of-type {\n",
       "        vertical-align: middle;\n",
       "    }\n",
       "\n",
       "    .dataframe tbody tr th {\n",
       "        vertical-align: top;\n",
       "    }\n",
       "\n",
       "    .dataframe thead th {\n",
       "        text-align: right;\n",
       "    }\n",
       "</style>\n",
       "<table border=\"1\" class=\"dataframe\">\n",
       "  <thead>\n",
       "    <tr style=\"text-align: right;\">\n",
       "      <th></th>\n",
       "      <th>area</th>\n",
       "      <th>bedrooms</th>\n",
       "      <th>bathrooms</th>\n",
       "      <th>stories</th>\n",
       "      <th>mainroad</th>\n",
       "      <th>guestroom</th>\n",
       "      <th>basement</th>\n",
       "      <th>hotwaterheating</th>\n",
       "      <th>airconditioning</th>\n",
       "      <th>parking</th>\n",
       "      <th>prefarea</th>\n",
       "      <th>furnished</th>\n",
       "      <th>semi</th>\n",
       "      <th>unfurnished</th>\n",
       "    </tr>\n",
       "  </thead>\n",
       "  <tbody>\n",
       "    <tr>\n",
       "      <th>area</th>\n",
       "      <td>1.000</td>\n",
       "      <td>0.152</td>\n",
       "      <td>0.194</td>\n",
       "      <td>0.084</td>\n",
       "      <td>0.289</td>\n",
       "      <td>0.140</td>\n",
       "      <td>0.047</td>\n",
       "      <td>-0.009</td>\n",
       "      <td>0.222</td>\n",
       "      <td>0.353</td>\n",
       "      <td>0.235</td>\n",
       "      <td>0.146</td>\n",
       "      <td>0.006</td>\n",
       "      <td>-0.142</td>\n",
       "    </tr>\n",
       "    <tr>\n",
       "      <th>bedrooms</th>\n",
       "      <td>0.152</td>\n",
       "      <td>1.000</td>\n",
       "      <td>0.374</td>\n",
       "      <td>0.409</td>\n",
       "      <td>-0.012</td>\n",
       "      <td>0.081</td>\n",
       "      <td>0.097</td>\n",
       "      <td>0.046</td>\n",
       "      <td>0.161</td>\n",
       "      <td>0.139</td>\n",
       "      <td>0.079</td>\n",
       "      <td>0.079</td>\n",
       "      <td>0.050</td>\n",
       "      <td>-0.126</td>\n",
       "    </tr>\n",
       "    <tr>\n",
       "      <th>bathrooms</th>\n",
       "      <td>0.194</td>\n",
       "      <td>0.374</td>\n",
       "      <td>1.000</td>\n",
       "      <td>0.326</td>\n",
       "      <td>0.042</td>\n",
       "      <td>0.126</td>\n",
       "      <td>0.102</td>\n",
       "      <td>0.067</td>\n",
       "      <td>0.187</td>\n",
       "      <td>0.177</td>\n",
       "      <td>0.063</td>\n",
       "      <td>0.108</td>\n",
       "      <td>0.030</td>\n",
       "      <td>-0.132</td>\n",
       "    </tr>\n",
       "    <tr>\n",
       "      <th>stories</th>\n",
       "      <td>0.084</td>\n",
       "      <td>0.409</td>\n",
       "      <td>0.326</td>\n",
       "      <td>1.000</td>\n",
       "      <td>0.122</td>\n",
       "      <td>0.044</td>\n",
       "      <td>-0.172</td>\n",
       "      <td>0.019</td>\n",
       "      <td>0.294</td>\n",
       "      <td>0.046</td>\n",
       "      <td>0.044</td>\n",
       "      <td>0.093</td>\n",
       "      <td>-0.004</td>\n",
       "      <td>-0.083</td>\n",
       "    </tr>\n",
       "    <tr>\n",
       "      <th>mainroad</th>\n",
       "      <td>0.289</td>\n",
       "      <td>-0.012</td>\n",
       "      <td>0.042</td>\n",
       "      <td>0.122</td>\n",
       "      <td>1.000</td>\n",
       "      <td>0.092</td>\n",
       "      <td>0.044</td>\n",
       "      <td>-0.012</td>\n",
       "      <td>0.105</td>\n",
       "      <td>0.204</td>\n",
       "      <td>0.200</td>\n",
       "      <td>0.130</td>\n",
       "      <td>0.011</td>\n",
       "      <td>-0.133</td>\n",
       "    </tr>\n",
       "    <tr>\n",
       "      <th>guestroom</th>\n",
       "      <td>0.140</td>\n",
       "      <td>0.081</td>\n",
       "      <td>0.126</td>\n",
       "      <td>0.044</td>\n",
       "      <td>0.092</td>\n",
       "      <td>1.000</td>\n",
       "      <td>0.372</td>\n",
       "      <td>-0.010</td>\n",
       "      <td>0.138</td>\n",
       "      <td>0.037</td>\n",
       "      <td>0.161</td>\n",
       "      <td>0.100</td>\n",
       "      <td>0.006</td>\n",
       "      <td>-0.099</td>\n",
       "    </tr>\n",
       "    <tr>\n",
       "      <th>basement</th>\n",
       "      <td>0.047</td>\n",
       "      <td>0.097</td>\n",
       "      <td>0.102</td>\n",
       "      <td>-0.172</td>\n",
       "      <td>0.044</td>\n",
       "      <td>0.372</td>\n",
       "      <td>1.000</td>\n",
       "      <td>0.004</td>\n",
       "      <td>0.047</td>\n",
       "      <td>0.051</td>\n",
       "      <td>0.228</td>\n",
       "      <td>0.070</td>\n",
       "      <td>0.050</td>\n",
       "      <td>-0.118</td>\n",
       "    </tr>\n",
       "    <tr>\n",
       "      <th>hotwaterheating</th>\n",
       "      <td>-0.009</td>\n",
       "      <td>0.046</td>\n",
       "      <td>0.067</td>\n",
       "      <td>0.019</td>\n",
       "      <td>-0.012</td>\n",
       "      <td>-0.010</td>\n",
       "      <td>0.004</td>\n",
       "      <td>1.000</td>\n",
       "      <td>-0.130</td>\n",
       "      <td>0.068</td>\n",
       "      <td>-0.059</td>\n",
       "      <td>-0.008</td>\n",
       "      <td>0.064</td>\n",
       "      <td>-0.059</td>\n",
       "    </tr>\n",
       "    <tr>\n",
       "      <th>airconditioning</th>\n",
       "      <td>0.222</td>\n",
       "      <td>0.161</td>\n",
       "      <td>0.187</td>\n",
       "      <td>0.294</td>\n",
       "      <td>0.105</td>\n",
       "      <td>0.138</td>\n",
       "      <td>0.047</td>\n",
       "      <td>-0.130</td>\n",
       "      <td>1.000</td>\n",
       "      <td>0.159</td>\n",
       "      <td>0.117</td>\n",
       "      <td>0.161</td>\n",
       "      <td>-0.053</td>\n",
       "      <td>-0.094</td>\n",
       "    </tr>\n",
       "    <tr>\n",
       "      <th>parking</th>\n",
       "      <td>0.353</td>\n",
       "      <td>0.139</td>\n",
       "      <td>0.177</td>\n",
       "      <td>0.046</td>\n",
       "      <td>0.204</td>\n",
       "      <td>0.037</td>\n",
       "      <td>0.051</td>\n",
       "      <td>0.068</td>\n",
       "      <td>0.159</td>\n",
       "      <td>1.000</td>\n",
       "      <td>0.092</td>\n",
       "      <td>0.131</td>\n",
       "      <td>0.041</td>\n",
       "      <td>-0.166</td>\n",
       "    </tr>\n",
       "    <tr>\n",
       "      <th>prefarea</th>\n",
       "      <td>0.235</td>\n",
       "      <td>0.079</td>\n",
       "      <td>0.063</td>\n",
       "      <td>0.044</td>\n",
       "      <td>0.200</td>\n",
       "      <td>0.161</td>\n",
       "      <td>0.228</td>\n",
       "      <td>-0.059</td>\n",
       "      <td>0.117</td>\n",
       "      <td>0.092</td>\n",
       "      <td>1.000</td>\n",
       "      <td>0.100</td>\n",
       "      <td>-0.012</td>\n",
       "      <td>-0.081</td>\n",
       "    </tr>\n",
       "    <tr>\n",
       "      <th>furnished</th>\n",
       "      <td>0.146</td>\n",
       "      <td>0.079</td>\n",
       "      <td>0.108</td>\n",
       "      <td>0.093</td>\n",
       "      <td>0.130</td>\n",
       "      <td>0.100</td>\n",
       "      <td>0.070</td>\n",
       "      <td>-0.008</td>\n",
       "      <td>0.161</td>\n",
       "      <td>0.131</td>\n",
       "      <td>0.100</td>\n",
       "      <td>1.000</td>\n",
       "      <td>-0.497</td>\n",
       "      <td>-0.409</td>\n",
       "    </tr>\n",
       "    <tr>\n",
       "      <th>semi</th>\n",
       "      <td>0.006</td>\n",
       "      <td>0.050</td>\n",
       "      <td>0.030</td>\n",
       "      <td>-0.004</td>\n",
       "      <td>0.011</td>\n",
       "      <td>0.006</td>\n",
       "      <td>0.050</td>\n",
       "      <td>0.064</td>\n",
       "      <td>-0.053</td>\n",
       "      <td>0.041</td>\n",
       "      <td>-0.012</td>\n",
       "      <td>-0.497</td>\n",
       "      <td>1.000</td>\n",
       "      <td>-0.588</td>\n",
       "    </tr>\n",
       "    <tr>\n",
       "      <th>unfurnished</th>\n",
       "      <td>-0.142</td>\n",
       "      <td>-0.126</td>\n",
       "      <td>-0.132</td>\n",
       "      <td>-0.083</td>\n",
       "      <td>-0.133</td>\n",
       "      <td>-0.099</td>\n",
       "      <td>-0.118</td>\n",
       "      <td>-0.059</td>\n",
       "      <td>-0.094</td>\n",
       "      <td>-0.166</td>\n",
       "      <td>-0.081</td>\n",
       "      <td>-0.409</td>\n",
       "      <td>-0.588</td>\n",
       "      <td>1.000</td>\n",
       "    </tr>\n",
       "  </tbody>\n",
       "</table>\n",
       "</div>"
      ],
      "text/plain": [
       "                  area  bedrooms  bathrooms  stories  mainroad  guestroom  \\\n",
       "area             1.000     0.152      0.194    0.084     0.289      0.140   \n",
       "bedrooms         0.152     1.000      0.374    0.409    -0.012      0.081   \n",
       "bathrooms        0.194     0.374      1.000    0.326     0.042      0.126   \n",
       "stories          0.084     0.409      0.326    1.000     0.122      0.044   \n",
       "mainroad         0.289    -0.012      0.042    0.122     1.000      0.092   \n",
       "guestroom        0.140     0.081      0.126    0.044     0.092      1.000   \n",
       "basement         0.047     0.097      0.102   -0.172     0.044      0.372   \n",
       "hotwaterheating -0.009     0.046      0.067    0.019    -0.012     -0.010   \n",
       "airconditioning  0.222     0.161      0.187    0.294     0.105      0.138   \n",
       "parking          0.353     0.139      0.177    0.046     0.204      0.037   \n",
       "prefarea         0.235     0.079      0.063    0.044     0.200      0.161   \n",
       "furnished        0.146     0.079      0.108    0.093     0.130      0.100   \n",
       "semi             0.006     0.050      0.030   -0.004     0.011      0.006   \n",
       "unfurnished     -0.142    -0.126     -0.132   -0.083    -0.133     -0.099   \n",
       "\n",
       "                 basement  hotwaterheating  airconditioning  parking  \\\n",
       "area                0.047           -0.009            0.222    0.353   \n",
       "bedrooms            0.097            0.046            0.161    0.139   \n",
       "bathrooms           0.102            0.067            0.187    0.177   \n",
       "stories            -0.172            0.019            0.294    0.046   \n",
       "mainroad            0.044           -0.012            0.105    0.204   \n",
       "guestroom           0.372           -0.010            0.138    0.037   \n",
       "basement            1.000            0.004            0.047    0.051   \n",
       "hotwaterheating     0.004            1.000           -0.130    0.068   \n",
       "airconditioning     0.047           -0.130            1.000    0.159   \n",
       "parking             0.051            0.068            0.159    1.000   \n",
       "prefarea            0.228           -0.059            0.117    0.092   \n",
       "furnished           0.070           -0.008            0.161    0.131   \n",
       "semi                0.050            0.064           -0.053    0.041   \n",
       "unfurnished        -0.118           -0.059           -0.094   -0.166   \n",
       "\n",
       "                 prefarea  furnished   semi  unfurnished  \n",
       "area                0.235      0.146  0.006       -0.142  \n",
       "bedrooms            0.079      0.079  0.050       -0.126  \n",
       "bathrooms           0.063      0.108  0.030       -0.132  \n",
       "stories             0.044      0.093 -0.004       -0.083  \n",
       "mainroad            0.200      0.130  0.011       -0.133  \n",
       "guestroom           0.161      0.100  0.006       -0.099  \n",
       "basement            0.228      0.070  0.050       -0.118  \n",
       "hotwaterheating    -0.059     -0.008  0.064       -0.059  \n",
       "airconditioning     0.117      0.161 -0.053       -0.094  \n",
       "parking             0.092      0.131  0.041       -0.166  \n",
       "prefarea            1.000      0.100 -0.012       -0.081  \n",
       "furnished           0.100      1.000 -0.497       -0.409  \n",
       "semi               -0.012     -0.497  1.000       -0.588  \n",
       "unfurnished        -0.081     -0.409 -0.588        1.000  "
      ]
     },
     "execution_count": 762,
     "metadata": {},
     "output_type": "execute_result"
    }
   ],
   "source": [
    "# Удалим первый столбец с единицами\n",
    "# X.drop(labels='Intercept', axis=1)\n",
    "# Корреляционная матрицы для регрессоров\n",
    "X.drop(labels='Intercept', axis=1).corr().round(3)"
   ]
  },
  {
   "cell_type": "code",
   "execution_count": 763,
   "id": "0c80e8e5",
   "metadata": {},
   "outputs": [
    {
     "data": {
      "text/plain": [
       "<Axes: >"
      ]
     },
     "execution_count": 763,
     "metadata": {},
     "output_type": "execute_result"
    },
    {
     "data": {
      "image/png": "[encoded data removed]",
      "text/plain": [
       "<Figure size 1000x1000 with 2 Axes>"
      ]
     },
     "metadata": {},
     "output_type": "display_data"
    }
   ],
   "source": [
    "# Визуализация корреляционной матрицы\n",
    "fig, ax = plt.subplots(1, figsize=(10, 10))\n",
    "sns.heatmap(X.drop(labels='Intercept', axis=1).corr(), annot=True)"
   ]
  },
  {
   "cell_type": "markdown",
   "id": "c1d01c7d",
   "metadata": {},
   "source": [
    "**Вывод:**\n",
    "1) обратная корелляция между значениями категориального признака\n",
    "2) корелляция между parking и area (у больших площадей больше парквочных мест)\n",
    "3) логичная корелляция между basement и guestroom\n",
    "4) логичная корелляция между bedrooms и bathrooms"
   ]
  },
  {
   "cell_type": "markdown",
   "id": "ace8ddb6",
   "metadata": {},
   "source": [
    "### 15. Тесты на спецификацию"
   ]
  },
  {
   "cell_type": "markdown",
   "id": "8c1b72ce",
   "metadata": {},
   "source": [
    "RESET-тест (неробастный!) со степенями главных компонент (до 4й)\n",
    "\n",
    "Гипотеза: $H_0:\\beta_{price^2}=\\beta_{price^3}=\\beta_{price^4}=0$"
   ]
  },
  {
   "cell_type": "code",
   "execution_count": 764,
   "id": "945215e2",
   "metadata": {},
   "outputs": [
    {
     "data": {
      "text/plain": [
       "<class 'statsmodels.stats.contrast.ContrastResults'>\n",
       "<F test: F=0.34121523708486795, p=0.7955363357376534, df_denom=528, df_num=3>"
      ]
     },
     "execution_count": 764,
     "metadata": {},
     "output_type": "execute_result"
    }
   ],
   "source": [
    "linear_reset(mod, power=4, test_type='princomp', use_f=True)"
   ]
  },
  {
   "cell_type": "code",
   "execution_count": 765,
   "id": "a2889aee",
   "metadata": {},
   "outputs": [
    {
     "data": {
      "text/plain": [
       "2.23"
      ]
     },
     "execution_count": 765,
     "metadata": {},
     "output_type": "execute_result"
    }
   ],
   "source": [
    "alpha = 0.05\n",
    "F_cr = stats.f.ppf(1-0.05,5,len(df)-18)\n",
    "F_cr.round(2)"
   ]
  },
  {
   "cell_type": "markdown",
   "id": "bee48832",
   "metadata": {},
   "source": [
    "**Вывод: Гипотеза не отвергается, регрессия согласуется с данными**"
   ]
  },
  {
   "cell_type": "markdown",
   "id": "3cc80307",
   "metadata": {},
   "source": [
    "###  Диагностические тесты на гетероскедастичность\n",
    "**Выбререм уровень значимости 1%**\n",
    "\n",
    "Для тестрования нужна матрица наблюдений регрессоров модели. Её можно получить как `mod.model.exog`\n",
    "\n",
    "**BP-тест** \n",
    "\n",
    "Модель гетероскедастичности $Var(u_i|X)=f(\\gamma_0+\\gamma_1x_1+\\cdots+\\gamma_kx_k)$\n",
    "\n",
    "Тестируем $H_0:\\begin{pmatrix} \\gamma_1 & \\cdots & \\gamma_k \\end{pmatrix}=0$ vs $H_1:\\begin{pmatrix} \\gamma_1 & \\cdots & \\gamma_k \\end{pmatrix}\\ne 0$\n",
    "\n",
    "*Нулевая гипотеза*: гомоскедаастичность ошибки\n",
    "\n",
    "*Альтернатива*: гетероскедастиность ошибки\n",
    "\n",
    "*Промежуточная регрессия*: $e^2$ на регрессоры модели"
   ]
  },
  {
   "cell_type": "code",
   "execution_count": 766,
   "id": "6e28615a",
   "metadata": {},
   "outputs": [
    {
     "data": {
      "text/plain": [
       "(29.837854752098, 0.008033935521068592)"
      ]
     },
     "execution_count": 766,
     "metadata": {},
     "output_type": "execute_result"
    }
   ],
   "source": [
    "BP_stat, p_val, F_stat, p_val_F = sms.het_breuschpagan(resid=mod.resid, exog_het=mod.model.exog)\n",
    "BP_stat, p_val"
   ]
  },
  {
   "cell_type": "markdown",
   "id": "aee580ef",
   "metadata": {},
   "source": [
    "1%-критическое значение распределения $\\chi^2_{df}$"
   ]
  },
  {
   "cell_type": "code",
   "execution_count": 767,
   "id": "4f09446f",
   "metadata": {},
   "outputs": [
    {
     "data": {
      "text/plain": [
       "27.68824961045705"
      ]
     },
     "execution_count": 767,
     "metadata": {},
     "output_type": "execute_result"
    }
   ],
   "source": [
    "chi2.ppf(q=1-0.01, df=mod.df_model)"
   ]
  },
  {
   "cell_type": "markdown",
   "id": "52724c6e",
   "metadata": {},
   "source": [
    "**Вывод**: тест указывает на гетероскедастиность (тестируемая гипотеза не принимается)\n",
    "\n",
    "**White-тест** (общий случай)\n",
    "\n",
    "Тестируем $H_0:Var(u_i|X)=\\sigma^2$ vs $H_1:Var(u_i|X)=\\sigma^2_i$\n",
    "\n",
    "*Нулевая гипотеза*: гомоскедастичность ошибки\n",
    "\n",
    "*Альтернатива*: гетероскедастиность ошибки (общего вида)\n",
    "\n",
    "*Промежуточная регрессия*: $e^2$ на регрессоры модели, их квадраты и попарные произведения"
   ]
  },
  {
   "cell_type": "code",
   "execution_count": 768,
   "id": "723e0f6d",
   "metadata": {},
   "outputs": [
    {
     "data": {
      "text/plain": [
       "(152.6918497555044, 0.00016072001678957908)"
      ]
     },
     "execution_count": 768,
     "metadata": {},
     "output_type": "execute_result"
    }
   ],
   "source": [
    "test_stat, p_val, F_stat, pval_f = sms.het_white(resid=mod.resid, exog=mod.model.exog)\n",
    "test_stat, p_val"
   ]
  },
  {
   "cell_type": "markdown",
   "id": "15c47e0e",
   "metadata": {},
   "source": [
    "**Вывод**: тест указывает на гетероскедастиность (тестируемая гипотеза принимается) .т.к. $p\\_val<\\alpha$"
   ]
  },
  {
   "cell_type": "markdown",
   "id": "cf7ac093",
   "metadata": {},
   "source": [
    "### 17. Робастный test"
   ]
  },
  {
   "cell_type": "markdown",
   "id": "d46f0ffc",
   "metadata": {},
   "source": [
    "Подгоним модель с поправкою на гетероскедастичность (робастная HC3-оценка ковариационной матрицы)"
   ]
  },
  {
   "cell_type": "code",
   "execution_count": 769,
   "id": "e9ec6b27",
   "metadata": {},
   "outputs": [
    {
     "data": {
      "text/html": [
       "<table class=\"simpletable\">\n",
       "<caption>OLS Regression Results</caption>\n",
       "<tr>\n",
       "  <th>Dep. Variable:</th>    <td>np.log(price)</td> <th>  R-squared:         </th> <td>   0.699</td> \n",
       "</tr>\n",
       "<tr>\n",
       "  <th>Model:</th>                 <td>OLS</td>      <th>  Adj. R-squared:    </th> <td>   0.692</td> \n",
       "</tr>\n",
       "<tr>\n",
       "  <th>No. Observations:</th>    <td>   545</td>     <th>  F-statistic:       </th> <td>2.350e+05</td>\n",
       "</tr>\n",
       "<tr>\n",
       "  <th>Covariance Type:</th>       <td>HC3</td>      <th>  Prob (F-statistic):</th>  <td>  0.00</td>  \n",
       "</tr>\n",
       "</table>\n",
       "<table class=\"simpletable\">\n",
       "<tr>\n",
       "         <td></td>            <th>coef</th>     <th>std err</th>      <th>z</th>      <th>P>|z|</th>  <th>[0.025</th>    <th>0.975]</th>  \n",
       "</tr>\n",
       "<tr>\n",
       "  <th>Intercept</th>       <td>   10.7413</td> <td>    0.034</td> <td>  318.464</td> <td> 0.000</td> <td>   10.675</td> <td>   10.807</td>\n",
       "</tr>\n",
       "<tr>\n",
       "  <th>area</th>            <td> 4.949e-05</td> <td> 4.92e-06</td> <td>   10.050</td> <td> 0.000</td> <td> 3.98e-05</td> <td> 5.91e-05</td>\n",
       "</tr>\n",
       "<tr>\n",
       "  <th>bedrooms</th>        <td>    0.0295</td> <td>    0.014</td> <td>    2.074</td> <td> 0.038</td> <td>    0.002</td> <td>    0.057</td>\n",
       "</tr>\n",
       "<tr>\n",
       "  <th>bathrooms</th>       <td>    0.1632</td> <td>    0.022</td> <td>    7.511</td> <td> 0.000</td> <td>    0.121</td> <td>    0.206</td>\n",
       "</tr>\n",
       "<tr>\n",
       "  <th>stories</th>         <td>    0.0901</td> <td>    0.012</td> <td>    7.585</td> <td> 0.000</td> <td>    0.067</td> <td>    0.113</td>\n",
       "</tr>\n",
       "<tr>\n",
       "  <th>mainroad</th>        <td>    0.1175</td> <td>    0.027</td> <td>    4.309</td> <td> 0.000</td> <td>    0.064</td> <td>    0.171</td>\n",
       "</tr>\n",
       "<tr>\n",
       "  <th>guestroom</th>       <td>    0.0698</td> <td>    0.026</td> <td>    2.687</td> <td> 0.007</td> <td>    0.019</td> <td>    0.121</td>\n",
       "</tr>\n",
       "<tr>\n",
       "  <th>basement</th>        <td>    0.0893</td> <td>    0.024</td> <td>    3.767</td> <td> 0.000</td> <td>    0.043</td> <td>    0.136</td>\n",
       "</tr>\n",
       "<tr>\n",
       "  <th>hotwaterheating</th> <td>    0.1634</td> <td>    0.055</td> <td>    2.956</td> <td> 0.003</td> <td>    0.055</td> <td>    0.272</td>\n",
       "</tr>\n",
       "<tr>\n",
       "  <th>airconditioning</th> <td>    0.1748</td> <td>    0.021</td> <td>    8.317</td> <td> 0.000</td> <td>    0.134</td> <td>    0.216</td>\n",
       "</tr>\n",
       "<tr>\n",
       "  <th>parking</th>         <td>    0.0448</td> <td>    0.012</td> <td>    3.824</td> <td> 0.000</td> <td>    0.022</td> <td>    0.068</td>\n",
       "</tr>\n",
       "<tr>\n",
       "  <th>prefarea</th>        <td>    0.1268</td> <td>    0.022</td> <td>    5.751</td> <td> 0.000</td> <td>    0.084</td> <td>    0.170</td>\n",
       "</tr>\n",
       "<tr>\n",
       "  <th>furnished</th>       <td>    3.6111</td> <td>    0.019</td> <td>  186.940</td> <td> 0.000</td> <td>    3.573</td> <td>    3.649</td>\n",
       "</tr>\n",
       "<tr>\n",
       "  <th>semi</th>            <td>    3.6291</td> <td>    0.016</td> <td>  221.351</td> <td> 0.000</td> <td>    3.597</td> <td>    3.661</td>\n",
       "</tr>\n",
       "<tr>\n",
       "  <th>unfurnished</th>     <td>    3.5012</td> <td>    0.017</td> <td>  211.954</td> <td> 0.000</td> <td>    3.469</td> <td>    3.534</td>\n",
       "</tr>\n",
       "</table><br/><br/>Notes:<br/>[1] Standard Errors are heteroscedasticity robust (HC3)<br/>[2] The smallest eigenvalue is 3.69e-29. This might indicate that there are<br/>strong multicollinearity problems or that the design matrix is singular."
      ],
      "text/plain": [
       "<class 'statsmodels.iolib.summary.Summary'>\n",
       "\"\"\"\n",
       "                            OLS Regression Results                            \n",
       "==============================================================================\n",
       "Dep. Variable:          np.log(price)   R-squared:                       0.699\n",
       "Model:                            OLS   Adj. R-squared:                  0.692\n",
       "No. Observations:                 545   F-statistic:                 2.350e+05\n",
       "Covariance Type:                  HC3   Prob (F-statistic):               0.00\n",
       "===================================================================================\n",
       "                      coef    std err          z      P>|z|      [0.025      0.975]\n",
       "-----------------------------------------------------------------------------------\n",
       "Intercept          10.7413      0.034    318.464      0.000      10.675      10.807\n",
       "area             4.949e-05   4.92e-06     10.050      0.000    3.98e-05    5.91e-05\n",
       "bedrooms            0.0295      0.014      2.074      0.038       0.002       0.057\n",
       "bathrooms           0.1632      0.022      7.511      0.000       0.121       0.206\n",
       "stories             0.0901      0.012      7.585      0.000       0.067       0.113\n",
       "mainroad            0.1175      0.027      4.309      0.000       0.064       0.171\n",
       "guestroom           0.0698      0.026      2.687      0.007       0.019       0.121\n",
       "basement            0.0893      0.024      3.767      0.000       0.043       0.136\n",
       "hotwaterheating     0.1634      0.055      2.956      0.003       0.055       0.272\n",
       "airconditioning     0.1748      0.021      8.317      0.000       0.134       0.216\n",
       "parking             0.0448      0.012      3.824      0.000       0.022       0.068\n",
       "prefarea            0.1268      0.022      5.751      0.000       0.084       0.170\n",
       "furnished           3.6111      0.019    186.940      0.000       3.573       3.649\n",
       "semi                3.6291      0.016    221.351      0.000       3.597       3.661\n",
       "unfurnished         3.5012      0.017    211.954      0.000       3.469       3.534\n",
       "===================================================================================\n",
       "\n",
       "Notes:\n",
       "[1] Standard Errors are heteroscedasticity robust (HC3)\n",
       "[2] The smallest eigenvalue is 3.69e-29. This might indicate that there are\n",
       "strong multicollinearity problems or that the design matrix is singular.\n",
       "\"\"\""
      ]
     },
     "execution_count": 769,
     "metadata": {},
     "output_type": "execute_result"
    }
   ],
   "source": [
    "mod_hc=smf.ols(formula=specification, data=df).fit(cov_type='HC3')\n",
    "mod_hc.summary(slim=True)"
   ]
  },
  {
   "cell_type": "markdown",
   "id": "a0a80e6d",
   "metadata": {},
   "source": [
    "Сравним результаты и исходной оценкой модели"
   ]
  },
  {
   "cell_type": "code",
   "execution_count": 770,
   "id": "16cbef48",
   "metadata": {},
   "outputs": [
    {
     "data": {
      "text/html": [
       "<table class=\"simpletable\">\n",
       "<tr>\n",
       "         <td></td>          <th>OLS-s.e.</th>   <th>HC3-s.e.</th> \n",
       "</tr>\n",
       "<tr>\n",
       "  <th>Intercept</th>       <td>10.7413***</td> <td>10.7413***</td>\n",
       "</tr>\n",
       "<tr>\n",
       "  <th></th>                 <td>(0.0350)</td>   <td>(0.0337)</td> \n",
       "</tr>\n",
       "<tr>\n",
       "  <th>area</th>             <td>0.0000***</td>  <td>0.0000***</td>\n",
       "</tr>\n",
       "<tr>\n",
       "  <th></th>                 <td>(0.0000)</td>   <td>(0.0000)</td> \n",
       "</tr>\n",
       "<tr>\n",
       "  <th>bedrooms</th>         <td>0.0295**</td>   <td>0.0295**</td> \n",
       "</tr>\n",
       "<tr>\n",
       "  <th></th>                 <td>(0.0141)</td>   <td>(0.0142)</td> \n",
       "</tr>\n",
       "<tr>\n",
       "  <th>bathrooms</th>        <td>0.1632***</td>  <td>0.1632***</td>\n",
       "</tr>\n",
       "<tr>\n",
       "  <th></th>                 <td>(0.0200)</td>   <td>(0.0217)</td> \n",
       "</tr>\n",
       "<tr>\n",
       "  <th>stories</th>          <td>0.0901***</td>  <td>0.0901***</td>\n",
       "</tr>\n",
       "<tr>\n",
       "  <th></th>                 <td>(0.0124)</td>   <td>(0.0119)</td> \n",
       "</tr>\n",
       "<tr>\n",
       "  <th>mainroad</th>         <td>0.1175***</td>  <td>0.1175***</td>\n",
       "</tr>\n",
       "<tr>\n",
       "  <th></th>                 <td>(0.0275)</td>   <td>(0.0273)</td> \n",
       "</tr>\n",
       "<tr>\n",
       "  <th>guestroom</th>        <td>0.0698***</td>  <td>0.0698***</td>\n",
       "</tr>\n",
       "<tr>\n",
       "  <th></th>                 <td>(0.0255)</td>   <td>(0.0260)</td> \n",
       "</tr>\n",
       "<tr>\n",
       "  <th>basement</th>         <td>0.0893***</td>  <td>0.0893***</td>\n",
       "</tr>\n",
       "<tr>\n",
       "  <th></th>                 <td>(0.0213)</td>   <td>(0.0237)</td> \n",
       "</tr>\n",
       "<tr>\n",
       "  <th>hotwaterheating</th>  <td>0.1634***</td>  <td>0.1634***</td>\n",
       "</tr>\n",
       "<tr>\n",
       "  <th></th>                 <td>(0.0432)</td>   <td>(0.0553)</td> \n",
       "</tr>\n",
       "<tr>\n",
       "  <th>airconditioning</th>  <td>0.1748***</td>  <td>0.1748***</td>\n",
       "</tr>\n",
       "<tr>\n",
       "  <th></th>                 <td>(0.0210)</td>   <td>(0.0210)</td> \n",
       "</tr>\n",
       "<tr>\n",
       "  <th>parking</th>          <td>0.0448***</td>  <td>0.0448***</td>\n",
       "</tr>\n",
       "<tr>\n",
       "  <th></th>                 <td>(0.0113)</td>   <td>(0.0117)</td> \n",
       "</tr>\n",
       "<tr>\n",
       "  <th>prefarea</th>         <td>0.1268***</td>  <td>0.1268***</td>\n",
       "</tr>\n",
       "<tr>\n",
       "  <th></th>                 <td>(0.0224)</td>   <td>(0.0220)</td> \n",
       "</tr>\n",
       "<tr>\n",
       "  <th>furnished</th>        <td>3.6111***</td>  <td>3.6111***</td>\n",
       "</tr>\n",
       "<tr>\n",
       "  <th></th>                 <td>(0.0198)</td>   <td>(0.0193)</td> \n",
       "</tr>\n",
       "<tr>\n",
       "  <th>semi</th>             <td>3.6291***</td>  <td>3.6291***</td>\n",
       "</tr>\n",
       "<tr>\n",
       "  <th></th>                 <td>(0.0168)</td>   <td>(0.0164)</td> \n",
       "</tr>\n",
       "<tr>\n",
       "  <th>unfurnished</th>      <td>3.5012***</td>  <td>3.5012***</td>\n",
       "</tr>\n",
       "<tr>\n",
       "  <th></th>                 <td>(0.0159)</td>   <td>(0.0165)</td> \n",
       "</tr>\n",
       "<tr>\n",
       "  <th>R-squared</th>         <td>0.6990</td>     <td>0.6990</td>  \n",
       "</tr>\n",
       "<tr>\n",
       "  <th>R-squared Adj.</th>    <td>0.6916</td>     <td>0.6916</td>  \n",
       "</tr>\n",
       "</table>"
      ],
      "text/plain": [
       "<class 'statsmodels.iolib.summary2.Summary'>\n",
       "\"\"\"\n",
       "\n",
       "=====================================\n",
       "                 OLS-s.e.   HC3-s.e. \n",
       "-------------------------------------\n",
       "Intercept       10.7413*** 10.7413***\n",
       "                (0.0350)   (0.0337)  \n",
       "area            0.0000***  0.0000*** \n",
       "                (0.0000)   (0.0000)  \n",
       "bedrooms        0.0295**   0.0295**  \n",
       "                (0.0141)   (0.0142)  \n",
       "bathrooms       0.1632***  0.1632*** \n",
       "                (0.0200)   (0.0217)  \n",
       "stories         0.0901***  0.0901*** \n",
       "                (0.0124)   (0.0119)  \n",
       "mainroad        0.1175***  0.1175*** \n",
       "                (0.0275)   (0.0273)  \n",
       "guestroom       0.0698***  0.0698*** \n",
       "                (0.0255)   (0.0260)  \n",
       "basement        0.0893***  0.0893*** \n",
       "                (0.0213)   (0.0237)  \n",
       "hotwaterheating 0.1634***  0.1634*** \n",
       "                (0.0432)   (0.0553)  \n",
       "airconditioning 0.1748***  0.1748*** \n",
       "                (0.0210)   (0.0210)  \n",
       "parking         0.0448***  0.0448*** \n",
       "                (0.0113)   (0.0117)  \n",
       "prefarea        0.1268***  0.1268*** \n",
       "                (0.0224)   (0.0220)  \n",
       "furnished       3.6111***  3.6111*** \n",
       "                (0.0198)   (0.0193)  \n",
       "semi            3.6291***  3.6291*** \n",
       "                (0.0168)   (0.0164)  \n",
       "unfurnished     3.5012***  3.5012*** \n",
       "                (0.0159)   (0.0165)  \n",
       "R-squared       0.6990     0.6990    \n",
       "R-squared Adj.  0.6916     0.6916    \n",
       "=====================================\n",
       "Standard errors in parentheses.\n",
       "* p<.1, ** p<.05, ***p<.01\n",
       "\"\"\""
      ]
     },
     "execution_count": 770,
     "metadata": {},
     "output_type": "execute_result"
    }
   ],
   "source": [
    "summary_col(results=[mod, mod_hc], stars=True, model_names=['OLS-s.e.', 'HC3-s.e.'])"
   ]
  },
  {
   "cell_type": "markdown",
   "id": "1ae85937",
   "metadata": {},
   "source": [
    "**Вывод:** Неробастная и робастная тестовая статистики почти совпадают, следовательно влияние ошибок моделирования на характеристики регрессионной модели незначимо."
   ]
  },
  {
   "cell_type": "markdown",
   "id": "e884d014",
   "metadata": {},
   "source": [
    "##  Вывод: \n",
    "1) Проведен анализ датасета недвижемости '12housing' с целевой пременной price\n",
    "2) Данные были правильно преобразованы и приведены в удобный для исследования вид\n",
    "3) Использовалась визуализация даных для лучшего понимания внутреннего строения зависимостей и наглядности выводов\n",
    "4) В ходе работы удалось достичь достаточно высокой точнисти предсказания целевой переменной\n",
    "5) Проверено множество гипотез как о коэффицентах так и о модели в целом\n",
    "6) Модель исследована на наличие корелляций и зависимотей\n",
    "7) Все шаги анализа подкреплены логичными выводами"
   ]
  }
 ],
 "metadata": {
  "kernelspec": {
   "display_name": "Python 3 (ipykernel)",
   "language": "python",
   "name": "python3"
  },
  "language_info": {
   "codemirror_mode": {
    "name": "ipython",
    "version": 3
   },
   "file_extension": ".py",
   "mimetype": "text/x-python",
   "name": "python",
   "nbconvert_exporter": "python",
   "pygments_lexer": "ipython3",
   "version": "3.9.16"
  }
 },
 "nbformat": 4,
 "nbformat_minor": 5
}
